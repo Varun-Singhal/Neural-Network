{
  "nbformat": 4,
  "nbformat_minor": 0,
  "metadata": {
    "colab": {
      "name": "GestureClassificationCNN.ipynb",
      "version": "0.3.2",
      "provenance": [],
      "include_colab_link": true
    },
    "kernelspec": {
      "name": "python3",
      "display_name": "Python 3"
    }
  },
  "cells": [
    {
      "cell_type": "markdown",
      "metadata": {
        "id": "view-in-github",
        "colab_type": "text"
      },
      "source": [
        "<a href=\"https://colab.research.google.com/github/Varun-Singhal/Neural-Network/blob/master/GestureClassificationCNN.ipynb\" target=\"_parent\"><img src=\"https://colab.research.google.com/assets/colab-badge.svg\" alt=\"Open In Colab\"/></a>"
      ]
    },
    {
      "metadata": {
        "id": "ONaf4JNo9L4K",
        "colab_type": "code",
        "colab": {
          "base_uri": "https://localhost:8080/",
          "height": 34
        },
        "outputId": "41cba233-e493-426c-e110-99e55fa4d12e"
      },
      "cell_type": "code",
      "source": [
        "import pickle \n",
        "import numpy as np\n",
        "from keras.layers import Conv2D, Dense, Flatten, MaxPooling2D, Input, Flatten, Dropout, Convolution2D, Activation\n",
        "from keras.models import Sequential\n",
        "from tensorflow import one_hot\n",
        "import tensorflow as tf\n",
        "import matplotlib.pyplot as plt\n",
        "from google.colab import drive\n",
        "drive.mount('/content/drive')"
      ],
      "execution_count": 55,
      "outputs": [
        {
          "output_type": "stream",
          "text": [
            "Drive already mounted at /content/drive; to attempt to forcibly remount, call drive.mount(\"/content/drive\", force_remount=True).\n"
          ],
          "name": "stdout"
        }
      ]
    },
    {
      "metadata": {
        "id": "gukTLtGP9ufb",
        "colab_type": "code",
        "colab": {
          "base_uri": "https://localhost:8080/",
          "height": 34
        },
        "outputId": "be1d60da-4cc2-4733-df2e-310fb4508d34"
      },
      "cell_type": "code",
      "source": [
        "with open(\"/content/drive/My Drive/cnn.pickle\",\"rb\") as file:\n",
        "  data = pickle.load(file)\n",
        "print(data['data'].shape)"
      ],
      "execution_count": 56,
      "outputs": [
        {
          "output_type": "stream",
          "text": [
            "(147, 100, 100, 3)\n"
          ],
          "name": "stdout"
        }
      ]
    },
    {
      "metadata": {
        "id": "778UMlZ8CcOJ",
        "colab_type": "code",
        "colab": {}
      },
      "cell_type": "code",
      "source": [
        "train_x = data['data']\n",
        "train_y = data['target']"
      ],
      "execution_count": 0,
      "outputs": []
    },
    {
      "metadata": {
        "id": "ddoGG-s4RZyH",
        "colab_type": "code",
        "colab": {
          "base_uri": "https://localhost:8080/",
          "height": 2516
        },
        "outputId": "fa70c9e7-1d80-4f3b-f0a4-11e027304e3a"
      },
      "cell_type": "code",
      "source": [
        "y = one_hot(train_y, depth=3)\n",
        "with tf.Session() as sess:\n",
        "    y_train = sess.run(y)\n",
        "y_train = y_train.reshape(147,3)\n",
        "print(y_train)"
      ],
      "execution_count": 58,
      "outputs": [
        {
          "output_type": "stream",
          "text": [
            "[[0. 0. 1.]\n",
            " [0. 1. 0.]\n",
            " [0. 1. 0.]\n",
            " [0. 0. 1.]\n",
            " [0. 0. 0.]\n",
            " [0. 0. 0.]\n",
            " [0. 0. 1.]\n",
            " [0. 0. 1.]\n",
            " [0. 1. 0.]\n",
            " [0. 0. 1.]\n",
            " [0. 1. 0.]\n",
            " [0. 1. 0.]\n",
            " [0. 1. 0.]\n",
            " [0. 1. 0.]\n",
            " [0. 1. 0.]\n",
            " [0. 0. 1.]\n",
            " [0. 0. 1.]\n",
            " [0. 0. 1.]\n",
            " [0. 0. 0.]\n",
            " [0. 0. 1.]\n",
            " [0. 1. 0.]\n",
            " [0. 1. 0.]\n",
            " [0. 0. 0.]\n",
            " [0. 0. 1.]\n",
            " [0. 1. 0.]\n",
            " [0. 1. 0.]\n",
            " [0. 0. 1.]\n",
            " [0. 0. 1.]\n",
            " [0. 1. 0.]\n",
            " [0. 0. 0.]\n",
            " [0. 1. 0.]\n",
            " [0. 0. 1.]\n",
            " [0. 0. 1.]\n",
            " [0. 0. 0.]\n",
            " [0. 0. 0.]\n",
            " [0. 0. 1.]\n",
            " [0. 0. 1.]\n",
            " [0. 0. 1.]\n",
            " [0. 0. 0.]\n",
            " [0. 0. 0.]\n",
            " [0. 0. 0.]\n",
            " [0. 1. 0.]\n",
            " [0. 0. 0.]\n",
            " [0. 1. 0.]\n",
            " [0. 0. 0.]\n",
            " [0. 1. 0.]\n",
            " [0. 0. 0.]\n",
            " [0. 1. 0.]\n",
            " [0. 0. 0.]\n",
            " [0. 0. 1.]\n",
            " [0. 0. 1.]\n",
            " [0. 0. 1.]\n",
            " [0. 0. 0.]\n",
            " [0. 0. 1.]\n",
            " [0. 0. 1.]\n",
            " [0. 1. 0.]\n",
            " [0. 1. 0.]\n",
            " [0. 0. 1.]\n",
            " [0. 1. 0.]\n",
            " [0. 0. 0.]\n",
            " [0. 1. 0.]\n",
            " [0. 0. 1.]\n",
            " [0. 0. 0.]\n",
            " [0. 1. 0.]\n",
            " [0. 0. 1.]\n",
            " [0. 1. 0.]\n",
            " [0. 1. 0.]\n",
            " [0. 1. 0.]\n",
            " [0. 0. 0.]\n",
            " [0. 0. 1.]\n",
            " [0. 1. 0.]\n",
            " [0. 0. 1.]\n",
            " [0. 1. 0.]\n",
            " [0. 0. 0.]\n",
            " [0. 0. 0.]\n",
            " [0. 0. 0.]\n",
            " [0. 1. 0.]\n",
            " [0. 0. 0.]\n",
            " [0. 1. 0.]\n",
            " [0. 1. 0.]\n",
            " [0. 0. 0.]\n",
            " [0. 1. 0.]\n",
            " [0. 0. 0.]\n",
            " [0. 1. 0.]\n",
            " [0. 0. 0.]\n",
            " [0. 0. 1.]\n",
            " [0. 1. 0.]\n",
            " [0. 0. 1.]\n",
            " [0. 0. 0.]\n",
            " [0. 0. 0.]\n",
            " [0. 0. 0.]\n",
            " [0. 0. 0.]\n",
            " [0. 1. 0.]\n",
            " [0. 0. 0.]\n",
            " [0. 1. 0.]\n",
            " [0. 0. 0.]\n",
            " [0. 0. 1.]\n",
            " [0. 1. 0.]\n",
            " [0. 1. 0.]\n",
            " [0. 0. 1.]\n",
            " [0. 0. 1.]\n",
            " [0. 0. 1.]\n",
            " [0. 0. 0.]\n",
            " [0. 1. 0.]\n",
            " [0. 0. 0.]\n",
            " [0. 0. 0.]\n",
            " [0. 0. 0.]\n",
            " [0. 1. 0.]\n",
            " [0. 0. 0.]\n",
            " [0. 0. 1.]\n",
            " [0. 0. 0.]\n",
            " [0. 0. 1.]\n",
            " [0. 1. 0.]\n",
            " [0. 0. 1.]\n",
            " [0. 0. 1.]\n",
            " [0. 1. 0.]\n",
            " [0. 1. 0.]\n",
            " [0. 0. 1.]\n",
            " [0. 1. 0.]\n",
            " [0. 0. 0.]\n",
            " [0. 0. 1.]\n",
            " [0. 0. 1.]\n",
            " [0. 0. 0.]\n",
            " [0. 0. 0.]\n",
            " [0. 0. 0.]\n",
            " [0. 1. 0.]\n",
            " [0. 0. 0.]\n",
            " [0. 0. 0.]\n",
            " [0. 0. 0.]\n",
            " [0. 0. 0.]\n",
            " [0. 0. 1.]\n",
            " [0. 0. 0.]\n",
            " [0. 0. 1.]\n",
            " [0. 1. 0.]\n",
            " [0. 0. 0.]\n",
            " [0. 0. 1.]\n",
            " [0. 0. 1.]\n",
            " [0. 1. 0.]\n",
            " [0. 0. 0.]\n",
            " [0. 1. 0.]\n",
            " [0. 0. 1.]\n",
            " [0. 0. 1.]\n",
            " [0. 0. 1.]\n",
            " [0. 0. 1.]\n",
            " [0. 0. 1.]\n",
            " [0. 1. 0.]\n",
            " [0. 0. 0.]]\n"
          ],
          "name": "stdout"
        }
      ]
    },
    {
      "metadata": {
        "id": "976pav-RPd_-",
        "colab_type": "code",
        "colab": {
          "base_uri": "https://localhost:8080/",
          "height": 544
        },
        "outputId": "969970d6-cc35-4fa3-925b-8eb4befd7ae2"
      },
      "cell_type": "code",
      "source": [
        "model = Sequential()\n",
        "model.add(Conv2D(32,(5,5),input_shape=(100,100,3),strides=(1,1),activation='relu'))\n",
        "model.add(MaxPool2D((2,2),strides=(2,2)))\n",
        "model.add(Conv2D(56,(3,3),activation='relu'))\n",
        "model.add(MaxPool2D((2,2),strides=(2,2)))\n",
        "model.add(Conv2D(50,(3,3),activation='relu'))\n",
        "model.add(MaxPool2D((2,2),strides=(2,2)))\n",
        "model.add(Conv2D(48,(3,3),activation='relu'))\n",
        "model.add(MaxPool2D((2,2),strides=(2,2)))\n",
        "model.add(Conv2D(10,(1,1),activation='relu'))\n",
        "model.add(MaxPool2D((2,2),strides=(2,2)))\n",
        "model.add(Flatten())\n",
        "model.add(Dense(3,activation='softmax'))\n",
        "model.summary()"
      ],
      "execution_count": 53,
      "outputs": [
        {
          "output_type": "stream",
          "text": [
            "_________________________________________________________________\n",
            "Layer (type)                 Output Shape              Param #   \n",
            "=================================================================\n",
            "conv2d_61 (Conv2D)           (None, 96, 96, 32)        2432      \n",
            "_________________________________________________________________\n",
            "max_pooling2d_35 (MaxPooling (None, 48, 48, 32)        0         \n",
            "_________________________________________________________________\n",
            "conv2d_62 (Conv2D)           (None, 46, 46, 56)        16184     \n",
            "_________________________________________________________________\n",
            "max_pooling2d_36 (MaxPooling (None, 23, 23, 56)        0         \n",
            "_________________________________________________________________\n",
            "conv2d_63 (Conv2D)           (None, 21, 21, 50)        25250     \n",
            "_________________________________________________________________\n",
            "max_pooling2d_37 (MaxPooling (None, 10, 10, 50)        0         \n",
            "_________________________________________________________________\n",
            "conv2d_64 (Conv2D)           (None, 8, 8, 48)          21648     \n",
            "_________________________________________________________________\n",
            "max_pooling2d_38 (MaxPooling (None, 4, 4, 48)          0         \n",
            "_________________________________________________________________\n",
            "conv2d_65 (Conv2D)           (None, 4, 4, 10)          490       \n",
            "_________________________________________________________________\n",
            "max_pooling2d_39 (MaxPooling (None, 2, 2, 10)          0         \n",
            "_________________________________________________________________\n",
            "flatten_9 (Flatten)          (None, 40)                0         \n",
            "_________________________________________________________________\n",
            "dense_9 (Dense)              (None, 3)                 123       \n",
            "=================================================================\n",
            "Total params: 66,127\n",
            "Trainable params: 66,127\n",
            "Non-trainable params: 0\n",
            "_________________________________________________________________\n"
          ],
          "name": "stdout"
        }
      ]
    },
    {
      "metadata": {
        "id": "lqAt0f4bahIt",
        "colab_type": "code",
        "colab": {
          "base_uri": "https://localhost:8080/",
          "height": 442
        },
        "outputId": "7b2fbd84-185a-4f2e-b825-fbf7f10d530a"
      },
      "cell_type": "code",
      "source": [
        "model = Sequential()\n",
        "\n",
        " \n",
        "model.add(Convolution2D(filters=32,kernel_size=(3,3),padding='same',  activation='relu', input_shape=(100,100,3)))\n",
        "model.add(Convolution2D(filters=35, kernel_size=(3,3), activation='relu'))\n",
        "model.add(MaxPooling2D(pool_size=(1,1)))\n",
        "model.add(Convolution2D(filters=40, kernel_size=(3,3),padding='same', activation='relu'))\n",
        "model.add(Convolution2D(filters=43, kernel_size=(3,3), activation='relu'))\n",
        "model.add(MaxPooling2D(pool_size=(3,3)))\n",
        "#model.add(Convolution2D(10, 26))\n",
        "model.add(Flatten())\n",
        "model.add(Dense(3))\n",
        "model.add(Activation('softmax'))\n",
        "model.summary()"
      ],
      "execution_count": 63,
      "outputs": [
        {
          "output_type": "stream",
          "text": [
            "_________________________________________________________________\n",
            "Layer (type)                 Output Shape              Param #   \n",
            "=================================================================\n",
            "conv2d_76 (Conv2D)           (None, 100, 100, 32)      896       \n",
            "_________________________________________________________________\n",
            "conv2d_77 (Conv2D)           (None, 98, 98, 35)        10115     \n",
            "_________________________________________________________________\n",
            "max_pooling2d_44 (MaxPooling (None, 98, 98, 35)        0         \n",
            "_________________________________________________________________\n",
            "conv2d_78 (Conv2D)           (None, 98, 98, 40)        12640     \n",
            "_________________________________________________________________\n",
            "conv2d_79 (Conv2D)           (None, 96, 96, 43)        15523     \n",
            "_________________________________________________________________\n",
            "max_pooling2d_45 (MaxPooling (None, 32, 32, 43)        0         \n",
            "_________________________________________________________________\n",
            "flatten_12 (Flatten)         (None, 44032)             0         \n",
            "_________________________________________________________________\n",
            "dense_12 (Dense)             (None, 3)                 132099    \n",
            "_________________________________________________________________\n",
            "activation_3 (Activation)    (None, 3)                 0         \n",
            "=================================================================\n",
            "Total params: 171,273\n",
            "Trainable params: 171,273\n",
            "Non-trainable params: 0\n",
            "_________________________________________________________________\n"
          ],
          "name": "stdout"
        }
      ]
    },
    {
      "metadata": {
        "id": "2j24HekUdgOt",
        "colab_type": "code",
        "colab": {
          "base_uri": "https://localhost:8080/",
          "height": 374
        },
        "outputId": "eab3da44-0f02-4de2-c707-31950189250d"
      },
      "cell_type": "code",
      "source": [
        "model = Sequential()\n",
        "model.add(Convolution2D(32,(5,5),input_shape=(100,100,3),activation='relu'))\n",
        "model.add(MaxPooling2D((3,3),strides=(2,2)))\n",
        "model.add(Convolution2D(15,(5,5),activation='relu'))\n",
        "model.add(MaxPooling2D((3,3),strides=(2,2)))\n",
        "model.add(Convolution2D(10,(1,1),activation='relu'))\n",
        "model.add(Flatten())\n",
        "model.add(Dense(3,activation='softmax'))\n",
        "model.summary()"
      ],
      "execution_count": 77,
      "outputs": [
        {
          "output_type": "stream",
          "text": [
            "_________________________________________________________________\n",
            "Layer (type)                 Output Shape              Param #   \n",
            "=================================================================\n",
            "conv2d_105 (Conv2D)          (None, 96, 96, 32)        2432      \n",
            "_________________________________________________________________\n",
            "max_pooling2d_61 (MaxPooling (None, 47, 47, 32)        0         \n",
            "_________________________________________________________________\n",
            "conv2d_106 (Conv2D)          (None, 43, 43, 15)        12015     \n",
            "_________________________________________________________________\n",
            "max_pooling2d_62 (MaxPooling (None, 21, 21, 15)        0         \n",
            "_________________________________________________________________\n",
            "conv2d_107 (Conv2D)          (None, 21, 21, 10)        160       \n",
            "_________________________________________________________________\n",
            "flatten_19 (Flatten)         (None, 4410)              0         \n",
            "_________________________________________________________________\n",
            "dense_23 (Dense)             (None, 3)                 13233     \n",
            "=================================================================\n",
            "Total params: 27,840\n",
            "Trainable params: 27,840\n",
            "Non-trainable params: 0\n",
            "_________________________________________________________________\n"
          ],
          "name": "stdout"
        }
      ]
    },
    {
      "metadata": {
        "id": "hsDxVobZRLvb",
        "colab_type": "code",
        "colab": {}
      },
      "cell_type": "code",
      "source": [
        "model.compile(loss='categorical_crossentropy',optimizer='adam',metrics=['accuracy'])"
      ],
      "execution_count": 0,
      "outputs": []
    },
    {
      "metadata": {
        "id": "JTod5-FHRyRJ",
        "colab_type": "code",
        "colab": {
          "base_uri": "https://localhost:8080/",
          "height": 374
        },
        "outputId": "0ec3b354-2c90-49ea-96a4-32f81e4b8b55"
      },
      "cell_type": "code",
      "source": [
        "model.fit(train_x,y_train,epochs=10)"
      ],
      "execution_count": 79,
      "outputs": [
        {
          "output_type": "stream",
          "text": [
            "Epoch 1/10\n",
            "147/147 [==============================] - 4s 30ms/step - loss: 5.3727 - acc: 0.3333\n",
            "Epoch 2/10\n",
            "147/147 [==============================] - 4s 24ms/step - loss: 5.3727 - acc: 0.3333\n",
            "Epoch 3/10\n",
            "147/147 [==============================] - 4s 24ms/step - loss: 5.3727 - acc: 0.3333\n",
            "Epoch 4/10\n",
            "147/147 [==============================] - 4s 24ms/step - loss: 5.3727 - acc: 0.3333\n",
            "Epoch 5/10\n",
            "147/147 [==============================] - 4s 24ms/step - loss: 5.3727 - acc: 0.3333\n",
            "Epoch 6/10\n",
            "147/147 [==============================] - 3s 24ms/step - loss: 5.3727 - acc: 0.3333\n",
            "Epoch 7/10\n",
            "147/147 [==============================] - 4s 24ms/step - loss: 5.3727 - acc: 0.3333\n",
            "Epoch 8/10\n",
            "147/147 [==============================] - 3s 24ms/step - loss: 5.3727 - acc: 0.3333\n",
            "Epoch 9/10\n",
            "147/147 [==============================] - 3s 24ms/step - loss: 5.3727 - acc: 0.3333\n",
            "Epoch 10/10\n",
            "147/147 [==============================] - 3s 24ms/step - loss: 5.3727 - acc: 0.3333\n"
          ],
          "name": "stdout"
        },
        {
          "output_type": "execute_result",
          "data": {
            "text/plain": [
              "<keras.callbacks.History at 0x7f8a8efcdc18>"
            ]
          },
          "metadata": {
            "tags": []
          },
          "execution_count": 79
        }
      ]
    },
    {
      "metadata": {
        "id": "LstN7QrRR3HR",
        "colab_type": "code",
        "colab": {}
      },
      "cell_type": "code",
      "source": [
        "\n",
        "                                                   "
      ],
      "execution_count": 0,
      "outputs": []
    }
  ]
}