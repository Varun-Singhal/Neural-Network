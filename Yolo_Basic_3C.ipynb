{
  "nbformat": 4,
  "nbformat_minor": 0,
  "metadata": {
    "colab": {
      "name": "Yolo_Basic 3C.ipynb",
      "version": "0.3.2",
      "provenance": [],
      "collapsed_sections": [],
      "include_colab_link": true
    },
    "kernelspec": {
      "name": "python3",
      "display_name": "Python 3"
    },
    "accelerator": "GPU"
  },
  "cells": [
    {
      "cell_type": "markdown",
      "metadata": {
        "id": "view-in-github",
        "colab_type": "text"
      },
      "source": [
        "<a href=\"https://colab.research.google.com/github/Varun-Singhal/Neural-Network/blob/master/Yolo_Basic_3C.ipynb\" target=\"_parent\"><img src=\"https://colab.research.google.com/assets/colab-badge.svg\" alt=\"Open In Colab\"/></a>"
      ]
    },
    {
      "metadata": {
        "id": "8edSiHPi2N5l",
        "colab_type": "code",
        "outputId": "44f63726-8067-48fc-e356-b18b4cb078c0",
        "colab": {
          "base_uri": "https://localhost:8080/",
          "height": 34
        }
      },
      "cell_type": "code",
      "source": [
        "# https://keras.io/\n",
        "!pip install -q keras\n",
        "import keras\n",
        "\n",
        "import keras\n",
        "from keras.datasets import cifar10\n",
        "from keras.models import Model, Sequential\n",
        "from keras.layers import Dense, Dropout, Flatten, Input, AveragePooling2D, merge, Activation\n",
        "from keras.layers import Conv2D, MaxPooling2D, BatchNormalization\n",
        "from keras.layers import Concatenate\n",
        "from keras.optimizers import Adam\n",
        "from keras.layers import Reshape, Activation, Conv2D, Input, MaxPooling2D, BatchNormalization, Flatten, Dense, Lambda\n",
        "from keras.layers.merge import concatenate\n",
        "\n",
        "# this part will prevent tensorflow to allocate all the avaliable GPU Memory\n",
        "# backend\n",
        "import tensorflow as tf\n",
        "from keras import backend as k\n",
        "\n",
        "# Don't pre-allocate memory; allocate as-needed\n",
        "config = tf.ConfigProto()\n",
        "config.gpu_options.allow_growth = True\n",
        "\n",
        "# Create a session with the above options specified.\n",
        "k.tensorflow_backend.set_session(tf.Session(config=config))\n",
        "\n",
        "# Hyperparameters\n",
        "batch_size = 128\n",
        "num_classes = 10\n",
        "epochs = 300\n",
        "l = 10\n",
        "num_filter = 20"
      ],
      "execution_count": 0,
      "outputs": [
        {
          "output_type": "stream",
          "text": [
            "Using TensorFlow backend.\n"
          ],
          "name": "stderr"
        }
      ]
    },
    {
      "metadata": {
        "id": "-hkvQwOH2cCO",
        "colab_type": "code",
        "outputId": "1d34d80d-f49b-432d-ebf1-54a36a0cd666",
        "colab": {
          "base_uri": "https://localhost:8080/",
          "height": 34
        }
      },
      "cell_type": "code",
      "source": [
        "# Load CIFAR10 Data\n",
        "(x_train, y_train), (x_test, y_test) = cifar10.load_data()\n",
        "img_height, img_width, channel = x_train.shape[1],x_train.shape[2],x_train.shape[3]\n",
        "\n",
        "# convert to one hot encoing \n",
        "y_train = keras.utils.to_categorical(y_train, num_classes)\n",
        "y_test = keras.utils.to_categorical(y_test, num_classes)\n",
        "\n",
        "print(x_train.shape,y_train.shape)\n"
      ],
      "execution_count": 0,
      "outputs": [
        {
          "output_type": "stream",
          "text": [
            "(50000, 32, 32, 3) (50000, 10)\n"
          ],
          "name": "stdout"
        }
      ]
    },
    {
      "metadata": {
        "id": "ztoDypc63gEs",
        "colab_type": "code",
        "colab": {}
      },
      "cell_type": "code",
      "source": [
        "def space_to_depth_x2(x):\n",
        "    return tf.space_to_depth(x, block_size=8)"
      ],
      "execution_count": 0,
      "outputs": []
    },
    {
      "metadata": {
        "id": "bP0cz_2uO_Dl",
        "colab_type": "code",
        "outputId": "d73c6643-a551-409c-e01d-f8dcec85eb27",
        "colab": {
          "base_uri": "https://localhost:8080/",
          "height": 88
        }
      },
      "cell_type": "code",
      "source": [
        "input = Input(shape=(img_height, img_width, channel,))\n",
        "\n",
        "#Block1\n",
        "\n",
        "layer1 = Conv2D(32,(3,3),padding='same',strides=(1,1),activation='relu')(input)\n",
        "layer2 = Conv2D(64,(3,3),padding='same',strides=(1,1),activation='relu')(layer1)\n",
        "layer3 = Conv2D(128,(3,3),padding='same',strides=(1,1),activation='relu')(layer2)\n",
        "layer4 = Conv2D(256,(3,3),padding='same',strides=(1,1),activation='relu')(layer3)\n",
        "layer5 = Conv2D(512,(3,3),padding='same',strides=(1,1),activation='relu')(layer4)\n",
        "layer_x1 = BatchNormalization()(layer5)\n",
        "\n",
        "layer6 = MaxPooling2D((2,2))(layer_x1)\n",
        "\n",
        "#Block2\n",
        "\n",
        "layer7 = Conv2D(32,(3,3),padding='same',strides=(1,1),activation='relu')(layer6)\n",
        "layer8 = Conv2D(64,(3,3),padding='same',strides=(1,1),activation='relu')(layer7)\n",
        "layer9 = Conv2D(128,(3,3),padding='same',strides=(1,1),activation='relu')(layer8)\n",
        "layer10 = Conv2D(256,(3,3),padding='same',strides=(1,1),activation='relu')(layer9)\n",
        "layer11 = Conv2D(512,(3,3),padding='same',strides=(1,1),activation='relu')(layer10)\n",
        "layer_x2 = BatchNormalization()(layer11)\n",
        "\n",
        "layer12 = MaxPooling2D((2,2))(layer_x2)\n",
        "\n",
        "#Block3\n",
        "\n",
        "layer13 = Conv2D(32,(3,3),padding='same',strides=(1,1),activation='relu')(layer12)\n",
        "layer14 = Conv2D(64,(3,3),padding='same',strides=(1,1),activation='relu')(layer13)\n",
        "layer15 = Conv2D(128,(3,3),padding='same',strides=(1,1),activation='relu')(layer14)\n",
        "layer16 = Conv2D(256,(3,3),padding='same',strides=(1,1),activation='relu')(layer15)\n",
        "layer17 = Conv2D(512,(3,3),padding='same',strides=(1,1),activation='relu')(layer16)\n",
        "layer_x3 = BatchNormalization()(layer17)\n",
        "\n",
        "layer18 = MaxPooling2D((2,2))(layer_x3)\n",
        "\n",
        "#Block4\n",
        "\n",
        "layer19 = Conv2D(32,(3,3),padding='same',strides=(1,1),activation='relu')(layer18)\n",
        "layer20 = Conv2D(64,(3,3),padding='same',strides=(1,1),activation='relu')(layer19)\n",
        "layer21 = Conv2D(128,(3,3),padding='same',strides=(1,1),activation='relu')(layer20)\n",
        "layer22 = Conv2D(256,(3,3),padding='same',strides=(1,1),activation='relu')(layer21)\n",
        "layer23 = Conv2D(512,(3,3),padding='same',strides=(1,1),activation='relu')(layer22)\n",
        "\n",
        "layer_x4 = BatchNormalization()(layer23)\n",
        "\n",
        "layer24 = MaxPooling2D((2,2))(layer_x4)\n",
        "\n",
        "#Concatenation\n",
        "layer = Lambda(space_to_depth_x2)(layer6)\n",
        "layer25 = concatenate([layer,layer24])\n",
        "\n",
        "#Flatten\n",
        "\n",
        "flatten = Flatten()(layer24)\n",
        "output = Dense(num_classes, activation='softmax')(flatten)"
      ],
      "execution_count": 0,
      "outputs": [
        {
          "output_type": "stream",
          "text": [
            "WARNING:tensorflow:From /usr/local/lib/python3.6/dist-packages/tensorflow/python/framework/op_def_library.py:263: colocate_with (from tensorflow.python.framework.ops) is deprecated and will be removed in a future version.\n",
            "Instructions for updating:\n",
            "Colocations handled automatically by placer.\n"
          ],
          "name": "stdout"
        }
      ]
    },
    {
      "metadata": {
        "id": "Jeh0VAxy26NV",
        "colab_type": "code",
        "outputId": "ca0d3d7c-a790-4e38-8cf8-058d7ac74c2b",
        "colab": {
          "base_uri": "https://localhost:8080/",
          "height": 1190
        }
      },
      "cell_type": "code",
      "source": [
        "model = Model(inputs=[input], outputs=[output])\n",
        "model.summary()"
      ],
      "execution_count": 0,
      "outputs": [
        {
          "output_type": "stream",
          "text": [
            "_________________________________________________________________\n",
            "Layer (type)                 Output Shape              Param #   \n",
            "=================================================================\n",
            "input_1 (InputLayer)         (None, 32, 32, 3)         0         \n",
            "_________________________________________________________________\n",
            "conv2d_1 (Conv2D)            (None, 32, 32, 32)        896       \n",
            "_________________________________________________________________\n",
            "conv2d_2 (Conv2D)            (None, 32, 32, 64)        18496     \n",
            "_________________________________________________________________\n",
            "conv2d_3 (Conv2D)            (None, 32, 32, 128)       73856     \n",
            "_________________________________________________________________\n",
            "conv2d_4 (Conv2D)            (None, 32, 32, 256)       295168    \n",
            "_________________________________________________________________\n",
            "conv2d_5 (Conv2D)            (None, 32, 32, 512)       1180160   \n",
            "_________________________________________________________________\n",
            "batch_normalization_1 (Batch (None, 32, 32, 512)       2048      \n",
            "_________________________________________________________________\n",
            "max_pooling2d_1 (MaxPooling2 (None, 16, 16, 512)       0         \n",
            "_________________________________________________________________\n",
            "conv2d_6 (Conv2D)            (None, 16, 16, 32)        147488    \n",
            "_________________________________________________________________\n",
            "conv2d_7 (Conv2D)            (None, 16, 16, 64)        18496     \n",
            "_________________________________________________________________\n",
            "conv2d_8 (Conv2D)            (None, 16, 16, 128)       73856     \n",
            "_________________________________________________________________\n",
            "conv2d_9 (Conv2D)            (None, 16, 16, 256)       295168    \n",
            "_________________________________________________________________\n",
            "conv2d_10 (Conv2D)           (None, 16, 16, 512)       1180160   \n",
            "_________________________________________________________________\n",
            "batch_normalization_2 (Batch (None, 16, 16, 512)       2048      \n",
            "_________________________________________________________________\n",
            "max_pooling2d_2 (MaxPooling2 (None, 8, 8, 512)         0         \n",
            "_________________________________________________________________\n",
            "conv2d_11 (Conv2D)           (None, 8, 8, 32)          147488    \n",
            "_________________________________________________________________\n",
            "conv2d_12 (Conv2D)           (None, 8, 8, 64)          18496     \n",
            "_________________________________________________________________\n",
            "conv2d_13 (Conv2D)           (None, 8, 8, 128)         73856     \n",
            "_________________________________________________________________\n",
            "conv2d_14 (Conv2D)           (None, 8, 8, 256)         295168    \n",
            "_________________________________________________________________\n",
            "conv2d_15 (Conv2D)           (None, 8, 8, 512)         1180160   \n",
            "_________________________________________________________________\n",
            "batch_normalization_3 (Batch (None, 8, 8, 512)         2048      \n",
            "_________________________________________________________________\n",
            "max_pooling2d_3 (MaxPooling2 (None, 4, 4, 512)         0         \n",
            "_________________________________________________________________\n",
            "conv2d_16 (Conv2D)           (None, 4, 4, 32)          147488    \n",
            "_________________________________________________________________\n",
            "conv2d_17 (Conv2D)           (None, 4, 4, 64)          18496     \n",
            "_________________________________________________________________\n",
            "conv2d_18 (Conv2D)           (None, 4, 4, 128)         73856     \n",
            "_________________________________________________________________\n",
            "conv2d_19 (Conv2D)           (None, 4, 4, 256)         295168    \n",
            "_________________________________________________________________\n",
            "conv2d_20 (Conv2D)           (None, 4, 4, 512)         1180160   \n",
            "_________________________________________________________________\n",
            "batch_normalization_4 (Batch (None, 4, 4, 512)         2048      \n",
            "_________________________________________________________________\n",
            "max_pooling2d_4 (MaxPooling2 (None, 2, 2, 512)         0         \n",
            "_________________________________________________________________\n",
            "flatten_1 (Flatten)          (None, 2048)              0         \n",
            "_________________________________________________________________\n",
            "dense_1 (Dense)              (None, 10)                20490     \n",
            "=================================================================\n",
            "Total params: 6,742,762\n",
            "Trainable params: 6,738,666\n",
            "Non-trainable params: 4,096\n",
            "_________________________________________________________________\n"
          ],
          "name": "stdout"
        }
      ]
    },
    {
      "metadata": {
        "id": "apCwOjvZ4Kts",
        "colab_type": "code",
        "colab": {}
      },
      "cell_type": "code",
      "source": [
        "# determine Loss function and Optimizer\n",
        "model.compile(loss='categorical_crossentropy',\n",
        "              optimizer=Adam(),\n",
        "              metrics=['accuracy'])"
      ],
      "execution_count": 0,
      "outputs": []
    },
    {
      "metadata": {
        "id": "tLaFy2AO4TLl",
        "colab_type": "code",
        "outputId": "40b67851-086d-4e29-d38c-493585f04438",
        "colab": {
          "base_uri": "https://localhost:8080/",
          "height": 1805
        }
      },
      "cell_type": "code",
      "source": [
        "history = model.fit(x_train, y_train,\n",
        "                    batch_size = batch_size,\n",
        "                    epochs=50,\n",
        "                    verbose=1,\n",
        "                    validation_data=(x_test, y_test))"
      ],
      "execution_count": 0,
      "outputs": [
        {
          "output_type": "stream",
          "text": [
            "WARNING:tensorflow:From /usr/local/lib/python3.6/dist-packages/tensorflow/python/ops/math_ops.py:3066: to_int32 (from tensorflow.python.ops.math_ops) is deprecated and will be removed in a future version.\n",
            "Instructions for updating:\n",
            "Use tf.cast instead.\n",
            "Train on 50000 samples, validate on 10000 samples\n",
            "Epoch 1/50\n",
            "50000/50000 [==============================] - 201s 4ms/step - loss: 2.5151 - acc: 0.1424 - val_loss: 2.5650 - val_acc: 0.1167\n",
            "Epoch 2/50\n",
            "50000/50000 [==============================] - 188s 4ms/step - loss: 2.2091 - acc: 0.1956 - val_loss: 2.0488 - val_acc: 0.2024\n",
            "Epoch 3/50\n",
            "50000/50000 [==============================] - 188s 4ms/step - loss: 1.7921 - acc: 0.3349 - val_loss: 2.2063 - val_acc: 0.2651\n",
            "Epoch 4/50\n",
            "50000/50000 [==============================] - 188s 4ms/step - loss: 1.8882 - acc: 0.3192 - val_loss: 2.2883 - val_acc: 0.1974\n",
            "Epoch 5/50\n",
            "50000/50000 [==============================] - 187s 4ms/step - loss: 2.3569 - acc: 0.1958 - val_loss: 2.3037 - val_acc: 0.1028\n",
            "Epoch 6/50\n",
            "50000/50000 [==============================] - 187s 4ms/step - loss: 2.3833 - acc: 0.1973 - val_loss: 2.8433 - val_acc: 0.1377\n",
            "Epoch 7/50\n",
            "50000/50000 [==============================] - 187s 4ms/step - loss: 2.2843 - acc: 0.2229 - val_loss: 2.1939 - val_acc: 0.1591\n",
            "Epoch 8/50\n",
            "50000/50000 [==============================] - 188s 4ms/step - loss: 1.9588 - acc: 0.2814 - val_loss: 1.9675 - val_acc: 0.2782\n",
            "Epoch 9/50\n",
            "50000/50000 [==============================] - 188s 4ms/step - loss: 1.7848 - acc: 0.3455 - val_loss: 1.9352 - val_acc: 0.2838\n",
            "Epoch 10/50\n",
            "50000/50000 [==============================] - 188s 4ms/step - loss: 1.6928 - acc: 0.3798 - val_loss: 1.7124 - val_acc: 0.3834\n",
            "Epoch 11/50\n",
            "50000/50000 [==============================] - 188s 4ms/step - loss: 1.6280 - acc: 0.4023 - val_loss: 1.7611 - val_acc: 0.3825\n",
            "Epoch 12/50\n",
            "50000/50000 [==============================] - 188s 4ms/step - loss: 1.5378 - acc: 0.4353 - val_loss: 1.5649 - val_acc: 0.4235\n",
            "Epoch 13/50\n",
            "50000/50000 [==============================] - 188s 4ms/step - loss: 1.4547 - acc: 0.4657 - val_loss: 1.4443 - val_acc: 0.4611\n",
            "Epoch 14/50\n",
            "50000/50000 [==============================] - 188s 4ms/step - loss: 1.3650 - acc: 0.4997 - val_loss: 1.4831 - val_acc: 0.4662\n",
            "Epoch 15/50\n",
            "50000/50000 [==============================] - 188s 4ms/step - loss: 1.2868 - acc: 0.5307 - val_loss: 1.3984 - val_acc: 0.4967\n",
            "Epoch 16/50\n",
            "50000/50000 [==============================] - 188s 4ms/step - loss: 1.2054 - acc: 0.5618 - val_loss: 1.5221 - val_acc: 0.4926\n",
            "Epoch 17/50\n",
            "50000/50000 [==============================] - 188s 4ms/step - loss: 1.1674 - acc: 0.5747 - val_loss: 1.1938 - val_acc: 0.5711\n",
            "Epoch 18/50\n",
            "50000/50000 [==============================] - 188s 4ms/step - loss: 1.0649 - acc: 0.6143 - val_loss: 1.3559 - val_acc: 0.5173\n",
            "Epoch 19/50\n",
            "50000/50000 [==============================] - 188s 4ms/step - loss: 0.9894 - acc: 0.6427 - val_loss: 1.3711 - val_acc: 0.5700\n",
            "Epoch 20/50\n",
            "50000/50000 [==============================] - 188s 4ms/step - loss: 0.9264 - acc: 0.6688 - val_loss: 1.1004 - val_acc: 0.6172\n",
            "Epoch 21/50\n",
            "50000/50000 [==============================] - 189s 4ms/step - loss: 0.8536 - acc: 0.6950 - val_loss: 1.1745 - val_acc: 0.5968\n",
            "Epoch 22/50\n",
            "50000/50000 [==============================] - 188s 4ms/step - loss: 0.7995 - acc: 0.7128 - val_loss: 0.9185 - val_acc: 0.6829\n",
            "Epoch 23/50\n",
            "50000/50000 [==============================] - 188s 4ms/step - loss: 0.7455 - acc: 0.7326 - val_loss: 0.8769 - val_acc: 0.6961\n",
            "Epoch 24/50\n",
            "50000/50000 [==============================] - 188s 4ms/step - loss: 0.6985 - acc: 0.7502 - val_loss: 0.9727 - val_acc: 0.6745\n",
            "Epoch 25/50\n",
            "50000/50000 [==============================] - 189s 4ms/step - loss: 0.6533 - acc: 0.7665 - val_loss: 0.9509 - val_acc: 0.6856\n",
            "Epoch 26/50\n",
            "50000/50000 [==============================] - 188s 4ms/step - loss: 0.6205 - acc: 0.7761 - val_loss: 0.8749 - val_acc: 0.7009\n",
            "Epoch 27/50\n",
            "50000/50000 [==============================] - 188s 4ms/step - loss: 0.5848 - acc: 0.7909 - val_loss: 0.9142 - val_acc: 0.6923\n",
            "Epoch 28/50\n",
            "50000/50000 [==============================] - 188s 4ms/step - loss: 0.5515 - acc: 0.8023 - val_loss: 0.9024 - val_acc: 0.7020\n",
            "Epoch 29/50\n",
            "50000/50000 [==============================] - 188s 4ms/step - loss: 0.5189 - acc: 0.8138 - val_loss: 0.9280 - val_acc: 0.7007\n",
            "Epoch 30/50\n",
            "50000/50000 [==============================] - 188s 4ms/step - loss: 0.4826 - acc: 0.8287 - val_loss: 0.9663 - val_acc: 0.7166\n",
            "Epoch 31/50\n",
            "50000/50000 [==============================] - 188s 4ms/step - loss: 0.4489 - acc: 0.8397 - val_loss: 1.0032 - val_acc: 0.6900\n",
            "Epoch 32/50\n",
            "50000/50000 [==============================] - 188s 4ms/step - loss: 0.4246 - acc: 0.8500 - val_loss: 0.9642 - val_acc: 0.7155\n",
            "Epoch 33/50\n",
            "50000/50000 [==============================] - 188s 4ms/step - loss: 0.3890 - acc: 0.8607 - val_loss: 0.9400 - val_acc: 0.7072\n",
            "Epoch 34/50\n",
            "50000/50000 [==============================] - 188s 4ms/step - loss: 0.3618 - acc: 0.8701 - val_loss: 0.8615 - val_acc: 0.7392\n",
            "Epoch 35/50\n",
            "50000/50000 [==============================] - 189s 4ms/step - loss: 0.3303 - acc: 0.8805 - val_loss: 0.9257 - val_acc: 0.7486\n",
            "Epoch 36/50\n",
            "50000/50000 [==============================] - 188s 4ms/step - loss: 0.3116 - acc: 0.8884 - val_loss: 0.9501 - val_acc: 0.7228\n",
            "Epoch 37/50\n",
            "50000/50000 [==============================] - 189s 4ms/step - loss: 0.2843 - acc: 0.8993 - val_loss: 0.9537 - val_acc: 0.7362\n",
            "Epoch 38/50\n",
            "50000/50000 [==============================] - 188s 4ms/step - loss: 0.2622 - acc: 0.9070 - val_loss: 1.0134 - val_acc: 0.7423\n",
            "Epoch 39/50\n",
            "50000/50000 [==============================] - 188s 4ms/step - loss: 0.2426 - acc: 0.9138 - val_loss: 0.9457 - val_acc: 0.7547\n",
            "Epoch 40/50\n",
            "50000/50000 [==============================] - 188s 4ms/step - loss: 0.2224 - acc: 0.9207 - val_loss: 0.9403 - val_acc: 0.7587\n",
            "Epoch 41/50\n",
            "50000/50000 [==============================] - 188s 4ms/step - loss: 0.2069 - acc: 0.9257 - val_loss: 1.0751 - val_acc: 0.7501\n",
            "Epoch 42/50\n",
            "50000/50000 [==============================] - 189s 4ms/step - loss: 0.1994 - acc: 0.9281 - val_loss: 1.0218 - val_acc: 0.7503\n",
            "Epoch 43/50\n",
            "50000/50000 [==============================] - 189s 4ms/step - loss: 0.1722 - acc: 0.9391 - val_loss: 1.0536 - val_acc: 0.7596\n",
            "Epoch 44/50\n",
            "50000/50000 [==============================] - 189s 4ms/step - loss: 0.1689 - acc: 0.9401 - val_loss: 1.0708 - val_acc: 0.7558\n",
            "Epoch 45/50\n",
            "50000/50000 [==============================] - 189s 4ms/step - loss: 0.1568 - acc: 0.9445 - val_loss: 1.1115 - val_acc: 0.7607\n",
            "Epoch 46/50\n",
            "50000/50000 [==============================] - 188s 4ms/step - loss: 0.1383 - acc: 0.9512 - val_loss: 1.1989 - val_acc: 0.7439\n",
            "Epoch 47/50\n",
            "50000/50000 [==============================] - 188s 4ms/step - loss: 0.1427 - acc: 0.9497 - val_loss: 1.2463 - val_acc: 0.7328\n",
            "Epoch 48/50\n",
            "50000/50000 [==============================] - 188s 4ms/step - loss: 0.1290 - acc: 0.9533 - val_loss: 1.3259 - val_acc: 0.7338\n",
            "Epoch 49/50\n",
            "50000/50000 [==============================] - 188s 4ms/step - loss: 0.1162 - acc: 0.9592 - val_loss: 1.2025 - val_acc: 0.7523\n",
            "Epoch 50/50\n",
            "50000/50000 [==============================] - 188s 4ms/step - loss: 0.1251 - acc: 0.9568 - val_loss: 1.1325 - val_acc: 0.7645\n"
          ],
          "name": "stdout"
        }
      ]
    },
    {
      "metadata": {
        "id": "pTfZIGrf4Uyd",
        "colab_type": "code",
        "outputId": "ba1003a1-3ff2-4364-9965-53ca155d4ac1",
        "colab": {
          "base_uri": "https://localhost:8080/",
          "height": 85
        }
      },
      "cell_type": "code",
      "source": [
        "# Test the model\n",
        "score = model.evaluate(x_test, y_test, verbose=1)\n",
        "print('Test loss:', score[0])\n",
        "print('Test accuracy:', score[1])\n",
        "# Save the trained weights in to .h5 format\n",
        "model.save_weights(\"Yolo_Basic_model2.h5\")\n",
        "print(\"Saved the model to disk\")"
      ],
      "execution_count": 0,
      "outputs": [
        {
          "output_type": "stream",
          "text": [
            "10000/10000 [==============================] - 15s 1ms/step\n",
            "Test loss: 1.1325201252698898\n",
            "Test accuracy: 0.7645\n",
            "Saved the model to disk\n"
          ],
          "name": "stdout"
        }
      ]
    },
    {
      "metadata": {
        "id": "l21NQeT6pqMk",
        "colab_type": "code",
        "outputId": "cd84962e-998c-4939-ae1e-ffe0f0629708",
        "colab": {
          "base_uri": "https://localhost:8080/",
          "height": 347
        }
      },
      "cell_type": "code",
      "source": [
        "import matplotlib.pyplot as plt\n",
        "plt.plot(history.history['loss'])\n",
        "plt.plot(history.history['acc'],'g')\n",
        "plt.show()"
      ],
      "execution_count": 0,
      "outputs": [
        {
          "output_type": "display_data",
          "data": {
            "image/png": "[encoded data removed]",
            "text/plain": [
              "<Figure size 576x396 with 1 Axes>"
            ]
          },
          "metadata": {
            "tags": []
          }
        }
      ]
    },
    {
      "metadata": {
        "id": "8hAgxmOyp7O0",
        "colab_type": "code",
        "outputId": "c35f1ac9-f581-40bd-ac57-640822058944",
        "colab": {
          "base_uri": "https://localhost:8080/",
          "height": 362
        }
      },
      "cell_type": "code",
      "source": [
        "plt.plot(history.history['loss'])\n",
        "plt.title(\"Loss\")\n",
        "plt.show()"
      ],
      "execution_count": 0,
      "outputs": [
        {
          "output_type": "display_data",
          "data": {
            "image/png": "[encoded data removed]",
            "text/plain": [
              "<Figure size 576x396 with 1 Axes>"
            ]
          },
          "metadata": {
            "tags": []
          }
        }
      ]
    },
    {
      "metadata": {
        "id": "EEJMihAYR_dF",
        "colab_type": "code",
        "outputId": "ade1bb87-3c3a-4687-cd36-f33b1208c900",
        "colab": {
          "base_uri": "https://localhost:8080/",
          "height": 362
        }
      },
      "cell_type": "code",
      "source": [
        "plt.plot(history.history['acc'])\n",
        "plt.title(\"Accuracy\")\n",
        "plt.show()"
      ],
      "execution_count": 0,
      "outputs": [
        {
          "output_type": "display_data",
          "data": {
            "image/png": "[encoded data removed]",
            "text/plain": [
              "<Figure size 576x396 with 1 Axes>"
            ]
          },
          "metadata": {
            "tags": []
          }
        }
      ]
    },
    {
      "metadata": {
        "id": "Q4x2N1DBSD7O",
        "colab_type": "code",
        "colab": {}
      },
      "cell_type": "code",
      "source": [
        ""
      ],
      "execution_count": 0,
      "outputs": []
    }
  ]
}