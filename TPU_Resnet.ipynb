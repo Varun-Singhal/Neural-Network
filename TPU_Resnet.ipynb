{
  "nbformat": 4,
  "nbformat_minor": 0,
  "metadata": {
    "colab": {
      "name": "TPU Resnet.ipynb",
      "version": "0.3.2",
      "provenance": [],
      "collapsed_sections": [],
      "include_colab_link": true
    },
    "kernelspec": {
      "name": "python3",
      "display_name": "Python 3"
    },
    "accelerator": "TPU"
  },
  "cells": [
    {
      "cell_type": "markdown",
      "metadata": {
        "id": "view-in-github",
        "colab_type": "text"
      },
      "source": [
        "<a href=\"https://colab.research.google.com/github/Varun-Singhal/Neural-Network/blob/master/TPU_Resnet.ipynb\" target=\"_parent\"><img src=\"https://colab.research.google.com/assets/colab-badge.svg\" alt=\"Open In Colab\"/></a>"
      ]
    },
    {
      "metadata": {
        "id": "GpE7a2iES3tr",
        "colab_type": "code",
        "outputId": "55ddbdc4-5c4e-4a92-b023-4f0a01f30764",
        "colab": {
          "base_uri": "https://localhost:8080/",
          "height": 646
        }
      },
      "cell_type": "code",
      "source": [
        "! pip uninstall tensorflow\n",
        "! pip install tensorflow-gpu"
      ],
      "execution_count": 0,
      "outputs": [
        {
          "output_type": "stream",
          "text": [
            "Uninstalling tensorflow-1.13.1:\n",
            "  Would remove:\n",
            "    /usr/local/bin/freeze_graph\n",
            "    /usr/local/bin/saved_model_cli\n",
            "    /usr/local/bin/tensorboard\n",
            "    /usr/local/bin/tf_upgrade_v2\n",
            "    /usr/local/bin/tflite_convert\n",
            "    /usr/local/bin/toco\n",
            "    /usr/local/bin/toco_from_protos\n",
            "    /usr/local/lib/python3.6/dist-packages/tensorflow-1.13.1.dist-info/*\n",
            "    /usr/local/lib/python3.6/dist-packages/tensorflow/*\n",
            "Proceed (y/n)? y\n",
            "  Successfully uninstalled tensorflow-1.13.1\n",
            "Collecting tensorflow-gpu\n",
            "\u001b[?25l  Downloading https://files.pythonhosted.org/packages/7b/b1/0ad4ae02e17ddd62109cd54c291e311c4b5fd09b4d0678d3d6ce4159b0f0/tensorflow_gpu-1.13.1-cp36-cp36m-manylinux1_x86_64.whl (345.2MB)\n",
            "\u001b[K    100% |████████████████████████████████| 345.2MB 51kB/s \n",
            "\u001b[?25hRequirement already satisfied: keras-applications>=1.0.6 in /usr/local/lib/python3.6/dist-packages (from tensorflow-gpu) (1.0.7)\n",
            "Requirement already satisfied: gast>=0.2.0 in /usr/local/lib/python3.6/dist-packages (from tensorflow-gpu) (0.2.2)\n",
            "Requirement already satisfied: grpcio>=1.8.6 in /usr/local/lib/python3.6/dist-packages (from tensorflow-gpu) (1.15.0)\n",
            "Requirement already satisfied: tensorboard<1.14.0,>=1.13.0 in /usr/local/lib/python3.6/dist-packages (from tensorflow-gpu) (1.13.1)\n",
            "Requirement already satisfied: protobuf>=3.6.1 in /usr/local/lib/python3.6/dist-packages (from tensorflow-gpu) (3.7.0)\n",
            "Requirement already satisfied: tensorflow-estimator<1.14.0rc0,>=1.13.0 in /usr/local/lib/python3.6/dist-packages (from tensorflow-gpu) (1.13.0)\n",
            "Requirement already satisfied: wheel>=0.26 in /usr/local/lib/python3.6/dist-packages (from tensorflow-gpu) (0.33.1)\n",
            "Requirement already satisfied: astor>=0.6.0 in /usr/local/lib/python3.6/dist-packages (from tensorflow-gpu) (0.7.1)\n",
            "Requirement already satisfied: absl-py>=0.1.6 in /usr/local/lib/python3.6/dist-packages (from tensorflow-gpu) (0.7.1)\n",
            "Requirement already satisfied: numpy>=1.13.3 in /usr/local/lib/python3.6/dist-packages (from tensorflow-gpu) (1.14.6)\n",
            "Requirement already satisfied: six>=1.10.0 in /usr/local/lib/python3.6/dist-packages (from tensorflow-gpu) (1.11.0)\n",
            "Requirement already satisfied: keras-preprocessing>=1.0.5 in /usr/local/lib/python3.6/dist-packages (from tensorflow-gpu) (1.0.9)\n",
            "Requirement already satisfied: termcolor>=1.1.0 in /usr/local/lib/python3.6/dist-packages (from tensorflow-gpu) (1.1.0)\n",
            "Requirement already satisfied: h5py in /usr/local/lib/python3.6/dist-packages (from keras-applications>=1.0.6->tensorflow-gpu) (2.8.0)\n",
            "Requirement already satisfied: werkzeug>=0.11.15 in /usr/local/lib/python3.6/dist-packages (from tensorboard<1.14.0,>=1.13.0->tensorflow-gpu) (0.14.1)\n",
            "Requirement already satisfied: markdown>=2.6.8 in /usr/local/lib/python3.6/dist-packages (from tensorboard<1.14.0,>=1.13.0->tensorflow-gpu) (3.0.1)\n",
            "Requirement already satisfied: setuptools in /usr/local/lib/python3.6/dist-packages (from protobuf>=3.6.1->tensorflow-gpu) (40.8.0)\n",
            "Requirement already satisfied: mock>=2.0.0 in /usr/local/lib/python3.6/dist-packages (from tensorflow-estimator<1.14.0rc0,>=1.13.0->tensorflow-gpu) (2.0.0)\n",
            "Requirement already satisfied: pbr>=0.11 in /usr/local/lib/python3.6/dist-packages (from mock>=2.0.0->tensorflow-estimator<1.14.0rc0,>=1.13.0->tensorflow-gpu) (5.1.3)\n",
            "Installing collected packages: tensorflow-gpu\n",
            "Successfully installed tensorflow-gpu-1.13.1\n"
          ],
          "name": "stdout"
        }
      ]
    },
    {
      "metadata": {
        "id": "bL4MIbc9S8i1",
        "colab_type": "code",
        "colab": {}
      },
      "cell_type": "code",
      "source": [
        "import tensorflow as tf\n",
        "from tensorflow.keras.layers import SeparableConv2D, Input,BatchNormalization, MaxPool2D, Conv2D, concatenate\n",
        "from tensorflow.keras.datasets import mnist\n",
        "from tensorflow.keras.models import Model\n",
        "from tensorflow.keras.activations import relu, softmax\n",
        "import numpy as np\n",
        "import matplotlib.pyplot as plt"
      ],
      "execution_count": 0,
      "outputs": []
    },
    {
      "metadata": {
        "id": "_A1snzNUTJ8T",
        "colab_type": "code",
        "outputId": "e7702c57-69a1-4b53-f0d5-d8a69cc884fd",
        "colab": {
          "base_uri": "https://localhost:8080/",
          "height": 364
        }
      },
      "cell_type": "code",
      "source": [
        "(train_x,train_y),(test_x,test_y) = mnist.load_data()\n",
        "print(train_x.shape)\n",
        "plt.imshow(train_x[210,:,:])\n",
        "train_x = np.expand_dims(train_x, -1)\n",
        "test_x = np.expand_dims(test_x, -1)\n"
      ],
      "execution_count": 46,
      "outputs": [
        {
          "output_type": "stream",
          "text": [
            "(60000, 28, 28)\n"
          ],
          "name": "stdout"
        },
        {
          "output_type": "display_data",
          "data": {
            "image/png": "[encoded data removed]",
            "text/plain": [
              "<Figure size 576x396 with 1 Axes>"
            ]
          },
          "metadata": {
            "tags": []
          }
        }
      ]
    },
    {
      "metadata": {
        "id": "zvHNCRR7TgGJ",
        "colab_type": "code",
        "colab": {}
      },
      "cell_type": "code",
      "source": [
        "import os\n",
        "TPU_Worker = \"grpc://\" + os.environ['COLAB_TPU_ADDR']\n"
      ],
      "execution_count": 0,
      "outputs": []
    },
    {
      "metadata": {
        "id": "hPnF7rOBT8Dq",
        "colab_type": "code",
        "outputId": "933685b2-d153-4a63-f495-b3ccd983f21a",
        "colab": {
          "base_uri": "https://localhost:8080/",
          "height": 629
        }
      },
      "cell_type": "code",
      "source": [
        "\n",
        "inp = Input((28,28,1))\n",
        "layer1 = SeparableConv2D(32,(3,3), padding='same',activation=relu)(inp)\n",
        "layer = layer1\n",
        "layer1 = SeparableConv2D(56,(3,3),padding='same',activation=relu)(layer1)\n",
        "layer1 = concatenate([layer1,layer])\n",
        "layer1 = BatchNormalization()(layer1)\n",
        "layer1 = MaxPool2D(2,2)(layer1)\n",
        "\n",
        "\n",
        "layer2 = Conv2D(32,(3,3),padding='same',activation=relu)(layer1)\n",
        "layer2 = concatenate([layer2,layer1])\n",
        "layer=layer2\n",
        "layer2 = SeparableConv2D(56,(3,3),padding='same',activation=relu)(layer2)\n",
        "layer2 = concatenate([layer2,layer])\n",
        "layer2 = BatchNormalization()(layer2)\n",
        "layer2 = MaxPool2D(2,2)(layer2)\n",
        "\n",
        "\n",
        "layer3 = Conv2D(10,(7,7),activation=softmax)(layer2)\n",
        "model = Model(inputs = inp,outputs = layer3)\n",
        "\n",
        "model.summary()"
      ],
      "execution_count": 36,
      "outputs": [
        {
          "output_type": "stream",
          "text": [
            "__________________________________________________________________________________________________\n",
            "Layer (type)                    Output Shape         Param #     Connected to                     \n",
            "==================================================================================================\n",
            "input_12 (InputLayer)           (None, 28, 28, 1)    0                                            \n",
            "__________________________________________________________________________________________________\n",
            "separable_conv2d_28 (SeparableC (None, 28, 28, 32)   73          input_12[0][0]                   \n",
            "__________________________________________________________________________________________________\n",
            "separable_conv2d_29 (SeparableC (None, 28, 28, 56)   2136        separable_conv2d_28[0][0]        \n",
            "__________________________________________________________________________________________________\n",
            "concatenate_1 (Concatenate)     (None, 28, 28, 88)   0           separable_conv2d_29[0][0]        \n",
            "                                                                 separable_conv2d_28[0][0]        \n",
            "__________________________________________________________________________________________________\n",
            "batch_normalization_v1_17 (Batc (None, 28, 28, 88)   352         concatenate_1[0][0]              \n",
            "__________________________________________________________________________________________________\n",
            "max_pooling2d_17 (MaxPooling2D) (None, 14, 14, 88)   0           batch_normalization_v1_17[0][0]  \n",
            "__________________________________________________________________________________________________\n",
            "conv2d_10 (Conv2D)              (None, 14, 14, 32)   25376       max_pooling2d_17[0][0]           \n",
            "__________________________________________________________________________________________________\n",
            "concatenate_2 (Concatenate)     (None, 14, 14, 120)  0           conv2d_10[0][0]                  \n",
            "                                                                 max_pooling2d_17[0][0]           \n",
            "__________________________________________________________________________________________________\n",
            "separable_conv2d_30 (SeparableC (None, 14, 14, 56)   7856        concatenate_2[0][0]              \n",
            "__________________________________________________________________________________________________\n",
            "concatenate_3 (Concatenate)     (None, 14, 14, 176)  0           separable_conv2d_30[0][0]        \n",
            "                                                                 concatenate_2[0][0]              \n",
            "__________________________________________________________________________________________________\n",
            "batch_normalization_v1_18 (Batc (None, 14, 14, 176)  704         concatenate_3[0][0]              \n",
            "__________________________________________________________________________________________________\n",
            "max_pooling2d_18 (MaxPooling2D) (None, 7, 7, 176)    0           batch_normalization_v1_18[0][0]  \n",
            "__________________________________________________________________________________________________\n",
            "conv2d_11 (Conv2D)              (None, 1, 1, 10)     86250       max_pooling2d_18[0][0]           \n",
            "==================================================================================================\n",
            "Total params: 122,747\n",
            "Trainable params: 122,219\n",
            "Non-trainable params: 528\n",
            "__________________________________________________________________________________________________\n"
          ],
          "name": "stdout"
        }
      ]
    },
    {
      "metadata": {
        "id": "csKK_EyyU179",
        "colab_type": "code",
        "colab": {
          "base_uri": "https://localhost:8080/",
          "height": 306
        },
        "outputId": "e7b0ce76-b01c-4c89-987a-fcfb7c418273"
      },
      "cell_type": "code",
      "source": [
        "tpu_model = tf.contrib.tpu.keras_to_tpu_model(\n",
        "    model,\n",
        "    strategy=tf.contrib.tpu.TPUDistributionStrategy(\n",
        "        tf.contrib.cluster_resolver.TPUClusterResolver(tpu='grpc://' + os.environ['COLAB_TPU_ADDR'])))\n",
        "    "
      ],
      "execution_count": 37,
      "outputs": [
        {
          "output_type": "stream",
          "text": [
            "INFO:tensorflow:Querying Tensorflow master (grpc://10.126.177.170:8470) for TPU system metadata.\n",
            "INFO:tensorflow:Found TPU system:\n",
            "INFO:tensorflow:*** Num TPU Cores: 8\n",
            "INFO:tensorflow:*** Num TPU Workers: 1\n",
            "INFO:tensorflow:*** Num TPU Cores Per Worker: 8\n",
            "INFO:tensorflow:*** Available Device: _DeviceAttributes(/job:worker/replica:0/task:0/device:CPU:0, CPU, -1, 12737954895211319733)\n",
            "INFO:tensorflow:*** Available Device: _DeviceAttributes(/job:worker/replica:0/task:0/device:XLA_CPU:0, XLA_CPU, 17179869184, 7836888578177070110)\n",
            "INFO:tensorflow:*** Available Device: _DeviceAttributes(/job:worker/replica:0/task:0/device:TPU:0, TPU, 17179869184, 12747034347305680376)\n",
            "INFO:tensorflow:*** Available Device: _DeviceAttributes(/job:worker/replica:0/task:0/device:TPU:1, TPU, 17179869184, 11372976950024809314)\n",
            "INFO:tensorflow:*** Available Device: _DeviceAttributes(/job:worker/replica:0/task:0/device:TPU:2, TPU, 17179869184, 9824878565812260724)\n",
            "INFO:tensorflow:*** Available Device: _DeviceAttributes(/job:worker/replica:0/task:0/device:TPU:3, TPU, 17179869184, 8453289445705172404)\n",
            "INFO:tensorflow:*** Available Device: _DeviceAttributes(/job:worker/replica:0/task:0/device:TPU:4, TPU, 17179869184, 16423433038848856554)\n",
            "INFO:tensorflow:*** Available Device: _DeviceAttributes(/job:worker/replica:0/task:0/device:TPU:5, TPU, 17179869184, 7603741399530250346)\n",
            "INFO:tensorflow:*** Available Device: _DeviceAttributes(/job:worker/replica:0/task:0/device:TPU:6, TPU, 17179869184, 2488723441763342630)\n",
            "INFO:tensorflow:*** Available Device: _DeviceAttributes(/job:worker/replica:0/task:0/device:TPU:7, TPU, 17179869184, 2900769415368121368)\n",
            "INFO:tensorflow:*** Available Device: _DeviceAttributes(/job:worker/replica:0/task:0/device:TPU_SYSTEM:0, TPU_SYSTEM, 17179869184, 613370711000935432)\n",
            "WARNING:tensorflow:tpu_model (from tensorflow.contrib.tpu.python.tpu.keras_support) is experimental and may change or be removed at any time, and without warning.\n"
          ],
          "name": "stdout"
        }
      ]
    },
    {
      "metadata": {
        "id": "2BLVS07DxKqt",
        "colab_type": "code",
        "colab": {}
      },
      "cell_type": "code",
      "source": [
        "\n",
        "tpu_model.compile(\n",
        "    optimizer=tf.train.AdamOptimizer(learning_rate=1e-3, ),\n",
        "    loss=tf.keras.losses.sparse_categorical_crossentropy,\n",
        "    metrics=['sparse_categorical_accuracy']\n",
        ")"
      ],
      "execution_count": 0,
      "outputs": []
    },
    {
      "metadata": {
        "id": "rHIJ6-6vxh3M",
        "colab_type": "code",
        "colab": {
          "base_uri": "https://localhost:8080/",
          "height": 326
        },
        "outputId": "b9d1c518-d5c3-4873-bdcb-11c068a59523"
      },
      "cell_type": "code",
      "source": [
        "tpu_model.fit(train_x,train_y,epochs=5)"
      ],
      "execution_count": 39,
      "outputs": [
        {
          "output_type": "stream",
          "text": [
            "Epoch 1/5\n",
            "INFO:tensorflow:New input shapes; (re-)compiling: mode=train (# of cores 8), [TensorSpec(shape=(4,), dtype=tf.int32, name='core_id_30'), TensorSpec(shape=(4, 28, 28, 1), dtype=tf.float32, name='input_12_10'), TensorSpec(shape=(4, 1), dtype=tf.int32, name='conv2d_11_target_10')]\n",
            "INFO:tensorflow:Overriding default placeholder.\n",
            "INFO:tensorflow:Remapping placeholder for input_12\n",
            "INFO:tensorflow:Started compiling\n",
            "INFO:tensorflow:Finished compiling. Time elapsed: 5.576552391052246 secs\n",
            "INFO:tensorflow:Setting weights on TPU model.\n",
            "60000/60000 [==============================] - 85s 1ms/sample - loss: 1.8922 - sparse_categorical_accuracy: 0.1233\n",
            "Epoch 2/5\n",
            "60000/60000 [==============================] - 73s 1ms/sample - loss: 1.4921 - sparse_categorical_accuracy: 0.1249\n",
            "Epoch 3/5\n",
            "60000/60000 [==============================] - 72s 1ms/sample - loss: 0.1309 - sparse_categorical_accuracy: 0.1277\n",
            "Epoch 4/5\n",
            "60000/60000 [==============================] - 72s 1ms/sample - loss: 0.0860 - sparse_categorical_accuracy: 0.1278\n",
            "Epoch 5/5\n",
            "60000/60000 [==============================] - 73s 1ms/sample - loss: 0.0687 - sparse_categorical_accuracy: 0.1279\n"
          ],
          "name": "stdout"
        },
        {
          "output_type": "execute_result",
          "data": {
            "text/plain": [
              "<tensorflow.python.keras.callbacks.History at 0x7fec12d908d0>"
            ]
          },
          "metadata": {
            "tags": []
          },
          "execution_count": 39
        }
      ]
    },
    {
      "metadata": {
        "id": "aF8V38nWx4VL",
        "colab_type": "code",
        "colab": {
          "base_uri": "https://localhost:8080/",
          "height": 612
        },
        "outputId": "3e72bb70-036b-4128-b485-27e0456b5845"
      },
      "cell_type": "code",
      "source": [
        "tpu_model.predict(test_x)"
      ],
      "execution_count": 47,
      "outputs": [
        {
          "output_type": "stream",
          "text": [
            "INFO:tensorflow:New input shapes; (re-)compiling: mode=infer (# of cores 8), [TensorSpec(shape=(4, 28, 28, 1), dtype=tf.float32, name='input_12_10')]\n",
            "INFO:tensorflow:Overriding default placeholder.\n",
            "INFO:tensorflow:Remapping placeholder for input_12\n",
            "INFO:tensorflow:Started compiling\n",
            "INFO:tensorflow:Finished compiling. Time elapsed: 4.132942199707031 secs\n",
            "INFO:tensorflow:New input shapes; (re-)compiling: mode=infer (# of cores 8), [TensorSpec(shape=(2, 28, 28, 1), dtype=tf.float32, name='input_12_10')]\n",
            "INFO:tensorflow:Overriding default placeholder.\n",
            "INFO:tensorflow:Remapping placeholder for input_12\n",
            "INFO:tensorflow:Started compiling\n",
            "INFO:tensorflow:Finished compiling. Time elapsed: 2.4774930477142334 secs\n"
          ],
          "name": "stdout"
        },
        {
          "output_type": "execute_result",
          "data": {
            "text/plain": [
              "array([[[[4.1209141e-31, 7.1154499e-29, 1.9670379e-20, ...,\n",
              "          1.0000000e+00, 3.2334550e-23, 5.5368416e-16]]],\n",
              "\n",
              "\n",
              "       [[[1.4173022e-27, 1.3981738e-23, 1.0000000e+00, ...,\n",
              "          2.7951168e-38, 3.6614369e-31, 1.9451803e-33]]],\n",
              "\n",
              "\n",
              "       [[[7.3322043e-12, 1.0000000e+00, 1.4573087e-14, ...,\n",
              "          2.6993821e-10, 4.0692257e-08, 9.9685261e-14]]],\n",
              "\n",
              "\n",
              "       ...,\n",
              "\n",
              "\n",
              "       [[[0.0000000e+00, 7.0481077e-24, 6.5397710e-34, ...,\n",
              "          1.5403035e-18, 2.7536251e-21, 4.7781943e-19]]],\n",
              "\n",
              "\n",
              "       [[[1.0125382e-32, 1.4112210e-35, 2.8496476e-36, ...,\n",
              "          6.7334767e-28, 2.8959571e-20, 9.0240433e-30]]],\n",
              "\n",
              "\n",
              "       [[[7.8475445e-26, 5.2964314e-32, 1.4447772e-14, ...,\n",
              "          7.9510761e-33, 8.7823438e-21, 1.3707422e-28]]]], dtype=float32)"
            ]
          },
          "metadata": {
            "tags": []
          },
          "execution_count": 47
        }
      ]
    },
    {
      "metadata": {
        "id": "RCWTQzOr7L5M",
        "colab_type": "code",
        "colab": {}
      },
      "cell_type": "code",
      "source": [
        "json_string = model.to_json()"
      ],
      "execution_count": 0,
      "outputs": []
    },
    {
      "metadata": {
        "id": "5kwTKOH5CrNJ",
        "colab_type": "code",
        "colab": {
          "base_uri": "https://localhost:8080/",
          "height": 1836
        },
        "outputId": "2d7f5770-d7d6-46ac-b046-b9d58a2d0b3c"
      },
      "cell_type": "code",
      "source": [
        "import pprint\n",
        "pprint.pprint(json_string)"
      ],
      "execution_count": 60,
      "outputs": [
        {
          "output_type": "stream",
          "text": [
            "('{\"class_name\": \"Model\", \"config\": {\"name\": \"model_10\", \"layers\": [{\"name\": '\n",
            " '\"input_12\", \"class_name\": \"InputLayer\", \"config\": {\"batch_input_shape\": '\n",
            " '[null, 28, 28, 1], \"dtype\": \"float32\", \"sparse\": false, \"name\": \"input_12\"}, '\n",
            " '\"inbound_nodes\": []}, {\"name\": \"separable_conv2d_28\", \"class_name\": '\n",
            " '\"SeparableConv2D\", \"config\": {\"name\": \"separable_conv2d_28\", \"trainable\": '\n",
            " 'true, \"dtype\": \"float32\", \"filters\": 32, \"kernel_size\": [3, 3], \"strides\": '\n",
            " '[1, 1], \"padding\": \"same\", \"data_format\": \"channels_last\", \"dilation_rate\": '\n",
            " '[1, 1], \"activation\": \"relu\", \"use_bias\": true, \"kernel_initializer\": '\n",
            " '{\"class_name\": \"GlorotUniform\", \"config\": {\"seed\": null, \"dtype\": '\n",
            " '\"float32\"}}, \"bias_initializer\": {\"class_name\": \"Zeros\", \"config\": {\"dtype\": '\n",
            " '\"float32\"}}, \"kernel_regularizer\": null, \"bias_regularizer\": null, '\n",
            " '\"activity_regularizer\": null, \"kernel_constraint\": null, \"bias_constraint\": '\n",
            " 'null, \"depth_multiplier\": 1, \"depthwise_initializer\": {\"class_name\": '\n",
            " '\"GlorotUniform\", \"config\": {\"seed\": null, \"dtype\": \"float32\"}}, '\n",
            " '\"pointwise_initializer\": {\"class_name\": \"GlorotUniform\", \"config\": {\"seed\": '\n",
            " 'null, \"dtype\": \"float32\"}}, \"depthwise_regularizer\": null, '\n",
            " '\"pointwise_regularizer\": null, \"depthwise_constraint\": null, '\n",
            " '\"pointwise_constraint\": null}, \"inbound_nodes\": [[[\"input_12\", 0, 0, {}]]]}, '\n",
            " '{\"name\": \"separable_conv2d_29\", \"class_name\": \"SeparableConv2D\", \"config\": '\n",
            " '{\"name\": \"separable_conv2d_29\", \"trainable\": true, \"dtype\": \"float32\", '\n",
            " '\"filters\": 56, \"kernel_size\": [3, 3], \"strides\": [1, 1], \"padding\": \"same\", '\n",
            " '\"data_format\": \"channels_last\", \"dilation_rate\": [1, 1], \"activation\": '\n",
            " '\"relu\", \"use_bias\": true, \"kernel_initializer\": {\"class_name\": '\n",
            " '\"GlorotUniform\", \"config\": {\"seed\": null, \"dtype\": \"float32\"}}, '\n",
            " '\"bias_initializer\": {\"class_name\": \"Zeros\", \"config\": {\"dtype\": \"float32\"}}, '\n",
            " '\"kernel_regularizer\": null, \"bias_regularizer\": null, '\n",
            " '\"activity_regularizer\": null, \"kernel_constraint\": null, \"bias_constraint\": '\n",
            " 'null, \"depth_multiplier\": 1, \"depthwise_initializer\": {\"class_name\": '\n",
            " '\"GlorotUniform\", \"config\": {\"seed\": null, \"dtype\": \"float32\"}}, '\n",
            " '\"pointwise_initializer\": {\"class_name\": \"GlorotUniform\", \"config\": {\"seed\": '\n",
            " 'null, \"dtype\": \"float32\"}}, \"depthwise_regularizer\": null, '\n",
            " '\"pointwise_regularizer\": null, \"depthwise_constraint\": null, '\n",
            " '\"pointwise_constraint\": null}, \"inbound_nodes\": [[[\"separable_conv2d_28\", 0, '\n",
            " '0, {}]]]}, {\"name\": \"concatenate_1\", \"class_name\": \"Concatenate\", \"config\": '\n",
            " '{\"name\": \"concatenate_1\", \"trainable\": true, \"dtype\": \"float32\", \"axis\": '\n",
            " '-1}, \"inbound_nodes\": [[[\"separable_conv2d_29\", 0, 0, {}], '\n",
            " '[\"separable_conv2d_28\", 0, 0, {}]]]}, {\"name\": \"batch_normalization_v1_17\", '\n",
            " '\"class_name\": \"BatchNormalizationV1\", \"config\": {\"name\": '\n",
            " '\"batch_normalization_v1_17\", \"trainable\": true, \"dtype\": \"float32\", \"axis\": '\n",
            " '[3], \"momentum\": 0.99, \"epsilon\": 0.001, \"center\": true, \"scale\": true, '\n",
            " '\"beta_initializer\": {\"class_name\": \"Zeros\", \"config\": {\"dtype\": \"float32\"}}, '\n",
            " '\"gamma_initializer\": {\"class_name\": \"Ones\", \"config\": {\"dtype\": \"float32\"}}, '\n",
            " '\"moving_mean_initializer\": {\"class_name\": \"Zeros\", \"config\": {\"dtype\": '\n",
            " '\"float32\"}}, \"moving_variance_initializer\": {\"class_name\": \"Ones\", \"config\": '\n",
            " '{\"dtype\": \"float32\"}}, \"beta_regularizer\": null, \"gamma_regularizer\": null, '\n",
            " '\"beta_constraint\": null, \"gamma_constraint\": null}, \"inbound_nodes\": '\n",
            " '[[[\"concatenate_1\", 0, 0, {}]]]}, {\"name\": \"max_pooling2d_17\", \"class_name\": '\n",
            " '\"MaxPooling2D\", \"config\": {\"name\": \"max_pooling2d_17\", \"trainable\": true, '\n",
            " '\"dtype\": \"float32\", \"pool_size\": [2, 2], \"padding\": \"valid\", \"strides\": [2, '\n",
            " '2], \"data_format\": \"channels_last\"}, \"inbound_nodes\": '\n",
            " '[[[\"batch_normalization_v1_17\", 0, 0, {}]]]}, {\"name\": \"conv2d_10\", '\n",
            " '\"class_name\": \"Conv2D\", \"config\": {\"name\": \"conv2d_10\", \"trainable\": true, '\n",
            " '\"dtype\": \"float32\", \"filters\": 32, \"kernel_size\": [3, 3], \"strides\": [1, 1], '\n",
            " '\"padding\": \"same\", \"data_format\": \"channels_last\", \"dilation_rate\": [1, 1], '\n",
            " '\"activation\": \"relu\", \"use_bias\": true, \"kernel_initializer\": {\"class_name\": '\n",
            " '\"GlorotUniform\", \"config\": {\"seed\": null, \"dtype\": \"float32\"}}, '\n",
            " '\"bias_initializer\": {\"class_name\": \"Zeros\", \"config\": {\"dtype\": \"float32\"}}, '\n",
            " '\"kernel_regularizer\": null, \"bias_regularizer\": null, '\n",
            " '\"activity_regularizer\": null, \"kernel_constraint\": null, \"bias_constraint\": '\n",
            " 'null}, \"inbound_nodes\": [[[\"max_pooling2d_17\", 0, 0, {}]]]}, {\"name\": '\n",
            " '\"concatenate_2\", \"class_name\": \"Concatenate\", \"config\": {\"name\": '\n",
            " '\"concatenate_2\", \"trainable\": true, \"dtype\": \"float32\", \"axis\": -1}, '\n",
            " '\"inbound_nodes\": [[[\"conv2d_10\", 0, 0, {}], [\"max_pooling2d_17\", 0, 0, '\n",
            " '{}]]]}, {\"name\": \"separable_conv2d_30\", \"class_name\": \"SeparableConv2D\", '\n",
            " '\"config\": {\"name\": \"separable_conv2d_30\", \"trainable\": true, \"dtype\": '\n",
            " '\"float32\", \"filters\": 56, \"kernel_size\": [3, 3], \"strides\": [1, 1], '\n",
            " '\"padding\": \"same\", \"data_format\": \"channels_last\", \"dilation_rate\": [1, 1], '\n",
            " '\"activation\": \"relu\", \"use_bias\": true, \"kernel_initializer\": {\"class_name\": '\n",
            " '\"GlorotUniform\", \"config\": {\"seed\": null, \"dtype\": \"float32\"}}, '\n",
            " '\"bias_initializer\": {\"class_name\": \"Zeros\", \"config\": {\"dtype\": \"float32\"}}, '\n",
            " '\"kernel_regularizer\": null, \"bias_regularizer\": null, '\n",
            " '\"activity_regularizer\": null, \"kernel_constraint\": null, \"bias_constraint\": '\n",
            " 'null, \"depth_multiplier\": 1, \"depthwise_initializer\": {\"class_name\": '\n",
            " '\"GlorotUniform\", \"config\": {\"seed\": null, \"dtype\": \"float32\"}}, '\n",
            " '\"pointwise_initializer\": {\"class_name\": \"GlorotUniform\", \"config\": {\"seed\": '\n",
            " 'null, \"dtype\": \"float32\"}}, \"depthwise_regularizer\": null, '\n",
            " '\"pointwise_regularizer\": null, \"depthwise_constraint\": null, '\n",
            " '\"pointwise_constraint\": null}, \"inbound_nodes\": [[[\"concatenate_2\", 0, 0, '\n",
            " '{}]]]}, {\"name\": \"concatenate_3\", \"class_name\": \"Concatenate\", \"config\": '\n",
            " '{\"name\": \"concatenate_3\", \"trainable\": true, \"dtype\": \"float32\", \"axis\": '\n",
            " '-1}, \"inbound_nodes\": [[[\"separable_conv2d_30\", 0, 0, {}], [\"concatenate_2\", '\n",
            " '0, 0, {}]]]}, {\"name\": \"batch_normalization_v1_18\", \"class_name\": '\n",
            " '\"BatchNormalizationV1\", \"config\": {\"name\": \"batch_normalization_v1_18\", '\n",
            " '\"trainable\": true, \"dtype\": \"float32\", \"axis\": [3], \"momentum\": 0.99, '\n",
            " '\"epsilon\": 0.001, \"center\": true, \"scale\": true, \"beta_initializer\": '\n",
            " '{\"class_name\": \"Zeros\", \"config\": {\"dtype\": \"float32\"}}, '\n",
            " '\"gamma_initializer\": {\"class_name\": \"Ones\", \"config\": {\"dtype\": \"float32\"}}, '\n",
            " '\"moving_mean_initializer\": {\"class_name\": \"Zeros\", \"config\": {\"dtype\": '\n",
            " '\"float32\"}}, \"moving_variance_initializer\": {\"class_name\": \"Ones\", \"config\": '\n",
            " '{\"dtype\": \"float32\"}}, \"beta_regularizer\": null, \"gamma_regularizer\": null, '\n",
            " '\"beta_constraint\": null, \"gamma_constraint\": null}, \"inbound_nodes\": '\n",
            " '[[[\"concatenate_3\", 0, 0, {}]]]}, {\"name\": \"max_pooling2d_18\", \"class_name\": '\n",
            " '\"MaxPooling2D\", \"config\": {\"name\": \"max_pooling2d_18\", \"trainable\": true, '\n",
            " '\"dtype\": \"float32\", \"pool_size\": [2, 2], \"padding\": \"valid\", \"strides\": [2, '\n",
            " '2], \"data_format\": \"channels_last\"}, \"inbound_nodes\": '\n",
            " '[[[\"batch_normalization_v1_18\", 0, 0, {}]]]}, {\"name\": \"conv2d_11\", '\n",
            " '\"class_name\": \"Conv2D\", \"config\": {\"name\": \"conv2d_11\", \"trainable\": true, '\n",
            " '\"dtype\": \"float32\", \"filters\": 10, \"kernel_size\": [7, 7], \"strides\": [1, 1], '\n",
            " '\"padding\": \"valid\", \"data_format\": \"channels_last\", \"dilation_rate\": [1, 1], '\n",
            " '\"activation\": \"softmax\", \"use_bias\": true, \"kernel_initializer\": '\n",
            " '{\"class_name\": \"GlorotUniform\", \"config\": {\"seed\": null, \"dtype\": '\n",
            " '\"float32\"}}, \"bias_initializer\": {\"class_name\": \"Zeros\", \"config\": {\"dtype\": '\n",
            " '\"float32\"}}, \"kernel_regularizer\": null, \"bias_regularizer\": null, '\n",
            " '\"activity_regularizer\": null, \"kernel_constraint\": null, \"bias_constraint\": '\n",
            " 'null}, \"inbound_nodes\": [[[\"max_pooling2d_18\", 0, 0, {}]]]}], '\n",
            " '\"input_layers\": [[\"input_12\", 0, 0]], \"output_layers\": [[\"conv2d_11\", 0, '\n",
            " '0]]}, \"keras_version\": \"2.2.4-tf\", \"backend\": \"tensorflow\"}')\n"
          ],
          "name": "stdout"
        }
      ]
    },
    {
      "metadata": {
        "id": "YKpuGbPRDssL",
        "colab_type": "code",
        "colab": {}
      },
      "cell_type": "code",
      "source": [
        ""
      ],
      "execution_count": 0,
      "outputs": []
    }
  ]
}