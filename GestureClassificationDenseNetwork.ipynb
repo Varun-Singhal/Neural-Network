{
  "nbformat": 4,
  "nbformat_minor": 0,
  "metadata": {
    "colab": {
      "name": "GestureClassificationDenseNetwork.ipynb",
      "version": "0.3.2",
      "provenance": [],
      "include_colab_link": true
    },
    "kernelspec": {
      "name": "python3",
      "display_name": "Python 3"
    },
    "accelerator": "GPU"
  },
  "cells": [
    {
      "cell_type": "markdown",
      "metadata": {
        "id": "view-in-github",
        "colab_type": "text"
      },
      "source": [
        "<a href=\"https://colab.research.google.com/github/Varun-Singhal/Neural-Network/blob/master/GestureClassificationDenseNetwork.ipynb\" target=\"_parent\"><img src=\"https://colab.research.google.com/assets/colab-badge.svg\" alt=\"Open In Colab\"/></a>"
      ]
    },
    {
      "metadata": {
        "id": "gKP10X-JxvdX",
        "colab_type": "code",
        "colab": {}
      },
      "cell_type": "code",
      "source": [
        "from google.colab import drive\n",
        "import pickle \n",
        "import numpy as np\n",
        "from keras.layers import Conv2D, Dense, Flatten, MaxPool2D, Input, Flatten, Dropout, Convolution2D, Activation\n",
        "from keras.models import Sequential\n",
        "from tensorflow import one_hot\n",
        "import tensorflow as tf\n",
        "import matplotlib.pyplot as plt"
      ],
      "execution_count": 0,
      "outputs": []
    },
    {
      "metadata": {
        "id": "DLQh3sq1xyiU",
        "colab_type": "code",
        "outputId": "c5ece966-0f5a-4aa0-9c9f-faae78df88ce",
        "colab": {
          "base_uri": "https://localhost:8080/",
          "height": 34
        }
      },
      "cell_type": "code",
      "source": [
        "drive.mount('/content/drive')"
      ],
      "execution_count": 36,
      "outputs": [
        {
          "output_type": "stream",
          "text": [
            "Drive already mounted at /content/drive; to attempt to forcibly remount, call drive.mount(\"/content/drive\", force_remount=True).\n"
          ],
          "name": "stdout"
        }
      ]
    },
    {
      "metadata": {
        "id": "b-zfZRuFx0TE",
        "colab_type": "code",
        "colab": {}
      },
      "cell_type": "code",
      "source": [
        "with open(\"/content/drive/My Drive/dnn.pickle\",\"rb\") as file:\n",
        "  data = pickle.load(file)"
      ],
      "execution_count": 0,
      "outputs": []
    },
    {
      "metadata": {
        "id": "Yh0T9oF8xzi-",
        "colab_type": "code",
        "colab": {}
      },
      "cell_type": "code",
      "source": [
        "train_x = data['data'].T\n",
        "train_y = data['target']"
      ],
      "execution_count": 0,
      "outputs": []
    },
    {
      "metadata": {
        "id": "FhI0imIS5j5p",
        "colab_type": "code",
        "colab": {
          "base_uri": "https://localhost:8080/",
          "height": 136
        },
        "outputId": "92c4c856-09a1-4d74-fa3b-153da2ba7d19"
      },
      "cell_type": "code",
      "source": [
        "print(train_x)"
      ],
      "execution_count": 39,
      "outputs": [
        {
          "output_type": "stream",
          "text": [
            "[[0.33333333 0.33333333 0.2627451  ... 0.34901961 0.38431373 0.67058824]\n",
            " [0.28627451 0.30196078 0.25882353 ... 0.35294118 0.38431373 0.68627451]\n",
            " [0.34901961 0.32941176 0.25098039 ... 0.41960784 0.45882353 0.74509804]\n",
            " ...\n",
            " [0.31372549 0.29803922 0.23529412 ... 0.35686275 0.39215686 0.66666667]\n",
            " [0.37647059 0.32156863 0.25882353 ... 0.34509804 0.4        0.68627451]\n",
            " [0.30588235 0.33333333 0.23137255 ... 0.34901961 0.40392157 0.69803922]]\n"
          ],
          "name": "stdout"
        }
      ]
    },
    {
      "metadata": {
        "id": "JZyxSzrayDeE",
        "colab_type": "code",
        "colab": {
          "base_uri": "https://localhost:8080/",
          "height": 34
        },
        "outputId": "74dfdbb2-8acc-43f3-f248-8955a35d822a"
      },
      "cell_type": "code",
      "source": [
        "print(train_x.shape,train_y.shape)"
      ],
      "execution_count": 34,
      "outputs": [
        {
          "output_type": "stream",
          "text": [
            "(147, 30000) (147, 1)\n"
          ],
          "name": "stdout"
        }
      ]
    },
    {
      "metadata": {
        "id": "yLtUXpDxyoUk",
        "colab_type": "code",
        "colab": {}
      },
      "cell_type": "code",
      "source": [
        "y = one_hot(train_y, depth=3)\n",
        "with tf.Session() as sess:\n",
        "    y_train = sess.run(y)\n"
      ],
      "execution_count": 0,
      "outputs": []
    },
    {
      "metadata": {
        "id": "jDXikIHLzBhf",
        "colab_type": "code",
        "colab": {
          "base_uri": "https://localhost:8080/",
          "height": 2516
        },
        "outputId": "fc982219-c92d-4959-ab89-67a704003afa"
      },
      "cell_type": "code",
      "source": [
        "y_train = y_train.reshape(147,3)\n",
        "print(y_train)"
      ],
      "execution_count": 70,
      "outputs": [
        {
          "output_type": "stream",
          "text": [
            "[[0. 0. 0.]\n",
            " [0. 0. 0.]\n",
            " [0. 0. 1.]\n",
            " [0. 0. 1.]\n",
            " [0. 1. 0.]\n",
            " [0. 0. 1.]\n",
            " [0. 0. 1.]\n",
            " [0. 0. 0.]\n",
            " [0. 0. 0.]\n",
            " [0. 0. 1.]\n",
            " [0. 0. 1.]\n",
            " [0. 0. 1.]\n",
            " [0. 1. 0.]\n",
            " [0. 0. 1.]\n",
            " [0. 0. 1.]\n",
            " [0. 0. 1.]\n",
            " [0. 1. 0.]\n",
            " [0. 0. 1.]\n",
            " [0. 0. 1.]\n",
            " [0. 0. 0.]\n",
            " [0. 0. 1.]\n",
            " [0. 1. 0.]\n",
            " [0. 1. 0.]\n",
            " [0. 0. 0.]\n",
            " [0. 0. 0.]\n",
            " [0. 0. 0.]\n",
            " [0. 1. 0.]\n",
            " [0. 1. 0.]\n",
            " [0. 0. 0.]\n",
            " [0. 1. 0.]\n",
            " [0. 0. 1.]\n",
            " [0. 0. 1.]\n",
            " [0. 1. 0.]\n",
            " [0. 0. 0.]\n",
            " [0. 1. 0.]\n",
            " [0. 1. 0.]\n",
            " [0. 0. 0.]\n",
            " [0. 1. 0.]\n",
            " [0. 0. 0.]\n",
            " [0. 0. 1.]\n",
            " [0. 0. 1.]\n",
            " [0. 1. 0.]\n",
            " [0. 0. 0.]\n",
            " [0. 1. 0.]\n",
            " [0. 0. 1.]\n",
            " [0. 1. 0.]\n",
            " [0. 0. 1.]\n",
            " [0. 0. 0.]\n",
            " [0. 0. 1.]\n",
            " [0. 1. 0.]\n",
            " [0. 0. 0.]\n",
            " [0. 0. 1.]\n",
            " [0. 0. 0.]\n",
            " [0. 1. 0.]\n",
            " [0. 0. 0.]\n",
            " [0. 1. 0.]\n",
            " [0. 1. 0.]\n",
            " [0. 0. 0.]\n",
            " [0. 1. 0.]\n",
            " [0. 0. 0.]\n",
            " [0. 0. 1.]\n",
            " [0. 0. 0.]\n",
            " [0. 0. 1.]\n",
            " [0. 0. 0.]\n",
            " [0. 0. 0.]\n",
            " [0. 0. 1.]\n",
            " [0. 0. 0.]\n",
            " [0. 0. 1.]\n",
            " [0. 1. 0.]\n",
            " [0. 0. 0.]\n",
            " [0. 0. 1.]\n",
            " [0. 0. 0.]\n",
            " [0. 1. 0.]\n",
            " [0. 1. 0.]\n",
            " [0. 1. 0.]\n",
            " [0. 1. 0.]\n",
            " [0. 0. 0.]\n",
            " [0. 1. 0.]\n",
            " [0. 0. 1.]\n",
            " [0. 1. 0.]\n",
            " [0. 0. 1.]\n",
            " [0. 1. 0.]\n",
            " [0. 0. 1.]\n",
            " [0. 1. 0.]\n",
            " [0. 0. 0.]\n",
            " [0. 0. 1.]\n",
            " [0. 1. 0.]\n",
            " [0. 0. 1.]\n",
            " [0. 0. 0.]\n",
            " [0. 1. 0.]\n",
            " [0. 0. 0.]\n",
            " [0. 0. 0.]\n",
            " [0. 0. 1.]\n",
            " [0. 1. 0.]\n",
            " [0. 1. 0.]\n",
            " [0. 0. 1.]\n",
            " [0. 0. 0.]\n",
            " [0. 0. 0.]\n",
            " [0. 1. 0.]\n",
            " [0. 1. 0.]\n",
            " [0. 0. 1.]\n",
            " [0. 0. 1.]\n",
            " [0. 0. 0.]\n",
            " [0. 1. 0.]\n",
            " [0. 0. 0.]\n",
            " [0. 0. 0.]\n",
            " [0. 0. 0.]\n",
            " [0. 1. 0.]\n",
            " [0. 0. 0.]\n",
            " [0. 1. 0.]\n",
            " [0. 0. 1.]\n",
            " [0. 0. 0.]\n",
            " [0. 0. 0.]\n",
            " [0. 1. 0.]\n",
            " [0. 0. 0.]\n",
            " [0. 1. 0.]\n",
            " [0. 1. 0.]\n",
            " [0. 0. 0.]\n",
            " [0. 0. 0.]\n",
            " [0. 1. 0.]\n",
            " [0. 0. 1.]\n",
            " [0. 0. 0.]\n",
            " [0. 1. 0.]\n",
            " [0. 1. 0.]\n",
            " [0. 0. 1.]\n",
            " [0. 1. 0.]\n",
            " [0. 0. 0.]\n",
            " [0. 0. 0.]\n",
            " [0. 0. 1.]\n",
            " [0. 0. 1.]\n",
            " [0. 1. 0.]\n",
            " [0. 0. 1.]\n",
            " [0. 1. 0.]\n",
            " [0. 0. 0.]\n",
            " [0. 1. 0.]\n",
            " [0. 0. 1.]\n",
            " [0. 0. 1.]\n",
            " [0. 0. 1.]\n",
            " [0. 0. 1.]\n",
            " [0. 0. 1.]\n",
            " [0. 0. 1.]\n",
            " [0. 0. 0.]\n",
            " [0. 1. 0.]\n",
            " [0. 0. 1.]\n",
            " [0. 0. 0.]\n",
            " [0. 0. 0.]\n",
            " [0. 0. 1.]]\n"
          ],
          "name": "stdout"
        }
      ]
    },
    {
      "metadata": {
        "id": "AH0w95xxzHYF",
        "colab_type": "code",
        "colab": {
          "base_uri": "https://localhost:8080/",
          "height": 374
        },
        "outputId": "3441e332-10de-4fa4-d6f2-53bf45276e0a"
      },
      "cell_type": "code",
      "source": [
        "model = Sequential()\n",
        "model.add(Dense(70,input_shape = (30000,),activation='relu'))\n",
        "model.add(Dense(90,activation='relu'))\n",
        "model.add(Dense(100,activation='relu'))\n",
        "model.add(Dense(60,activation='relu'))\n",
        "model.add(Dense(40,activation='relu'))\n",
        "model.add(Dense(10,activation='relu'))\n",
        "model.add(Dense(3,activation='softmax'))\n",
        "\n",
        "model.summary()"
      ],
      "execution_count": 80,
      "outputs": [
        {
          "output_type": "stream",
          "text": [
            "_________________________________________________________________\n",
            "Layer (type)                 Output Shape              Param #   \n",
            "=================================================================\n",
            "dense_87 (Dense)             (None, 70)                2100070   \n",
            "_________________________________________________________________\n",
            "dense_88 (Dense)             (None, 90)                6390      \n",
            "_________________________________________________________________\n",
            "dense_89 (Dense)             (None, 100)               9100      \n",
            "_________________________________________________________________\n",
            "dense_90 (Dense)             (None, 60)                6060      \n",
            "_________________________________________________________________\n",
            "dense_91 (Dense)             (None, 40)                2440      \n",
            "_________________________________________________________________\n",
            "dense_92 (Dense)             (None, 10)                410       \n",
            "_________________________________________________________________\n",
            "dense_93 (Dense)             (None, 3)                 33        \n",
            "=================================================================\n",
            "Total params: 2,124,503\n",
            "Trainable params: 2,124,503\n",
            "Non-trainable params: 0\n",
            "_________________________________________________________________\n"
          ],
          "name": "stdout"
        }
      ]
    },
    {
      "metadata": {
        "id": "1pWipSZ1zSs2",
        "colab_type": "code",
        "colab": {}
      },
      "cell_type": "code",
      "source": [
        "model.compile(optimizer='SGD',\n",
        "              loss='categorical_crossentropy',\n",
        "              metrics=['accuracy'])"
      ],
      "execution_count": 0,
      "outputs": []
    },
    {
      "metadata": {
        "id": "AxYYiYMy7g5M",
        "colab_type": "code",
        "colab": {
          "base_uri": "https://localhost:8080/",
          "height": 34
        },
        "outputId": "4f6304b8-a507-4ea1-ec10-4fd4ca4a462f"
      },
      "cell_type": "code",
      "source": [
        "print(train_x.shape,y_train.shape)"
      ],
      "execution_count": 82,
      "outputs": [
        {
          "output_type": "stream",
          "text": [
            "(147, 30000) (147, 3)\n"
          ],
          "name": "stdout"
        }
      ]
    },
    {
      "metadata": {
        "id": "00yvwi1kzW4s",
        "colab_type": "code",
        "colab": {
          "base_uri": "https://localhost:8080/",
          "height": 1037
        },
        "outputId": "fdb5d419-b3e2-4f0f-d6cb-a5a45de8599e"
      },
      "cell_type": "code",
      "source": [
        "history = model.fit(train_x,y_train,epochs=30)"
      ],
      "execution_count": 83,
      "outputs": [
        {
          "output_type": "stream",
          "text": [
            "Epoch 1/30\n",
            "147/147 [==============================] - 1s 8ms/step - loss: 0.7366 - acc: 0.3197\n",
            "Epoch 2/30\n",
            "147/147 [==============================] - 0s 387us/step - loss: 0.6544 - acc: 0.3333\n",
            "Epoch 3/30\n",
            "147/147 [==============================] - 0s 409us/step - loss: 0.6379 - acc: 0.3878\n",
            "Epoch 4/30\n",
            "147/147 [==============================] - 0s 386us/step - loss: 0.6120 - acc: 0.3333\n",
            "Epoch 5/30\n",
            "147/147 [==============================] - 0s 395us/step - loss: 0.5654 - acc: 0.3333\n",
            "Epoch 6/30\n",
            "147/147 [==============================] - 0s 393us/step - loss: 0.4955 - acc: 0.4558\n",
            "Epoch 7/30\n",
            "147/147 [==============================] - 0s 378us/step - loss: 0.6552 - acc: 0.3061\n",
            "Epoch 8/30\n",
            "147/147 [==============================] - 0s 371us/step - loss: 0.5680 - acc: 0.2449\n",
            "Epoch 9/30\n",
            "147/147 [==============================] - 0s 384us/step - loss: 0.5161 - acc: 0.3333\n",
            "Epoch 10/30\n",
            "147/147 [==============================] - 0s 359us/step - loss: 0.4758 - acc: 0.3878\n",
            "Epoch 11/30\n",
            "147/147 [==============================] - 0s 356us/step - loss: 0.4429 - acc: 0.5034\n",
            "Epoch 12/30\n",
            "147/147 [==============================] - 0s 373us/step - loss: 0.4710 - acc: 0.3061\n",
            "Epoch 13/30\n",
            "147/147 [==============================] - 0s 399us/step - loss: 0.3834 - acc: 0.4898\n",
            "Epoch 14/30\n",
            "147/147 [==============================] - 0s 356us/step - loss: 0.3956 - acc: 0.3469\n",
            "Epoch 15/30\n",
            "147/147 [==============================] - 0s 359us/step - loss: 0.3239 - acc: 0.5510\n",
            "Epoch 16/30\n",
            "147/147 [==============================] - 0s 358us/step - loss: 0.4211 - acc: 0.4626\n",
            "Epoch 17/30\n",
            "147/147 [==============================] - 0s 356us/step - loss: 0.3196 - acc: 0.5850\n",
            "Epoch 18/30\n",
            "147/147 [==============================] - 0s 344us/step - loss: 0.3931 - acc: 0.5102\n",
            "Epoch 19/30\n",
            "147/147 [==============================] - 0s 346us/step - loss: 0.3634 - acc: 0.5238\n",
            "Epoch 20/30\n",
            "147/147 [==============================] - 0s 375us/step - loss: 0.4396 - acc: 0.4082\n",
            "Epoch 21/30\n",
            "147/147 [==============================] - 0s 383us/step - loss: 0.2863 - acc: 0.6190\n",
            "Epoch 22/30\n",
            "147/147 [==============================] - 0s 364us/step - loss: 0.1360 - acc: 0.6667\n",
            "Epoch 23/30\n",
            "147/147 [==============================] - 0s 386us/step - loss: 0.6913 - acc: 0.4558\n",
            "Epoch 24/30\n",
            "147/147 [==============================] - 0s 392us/step - loss: 0.4552 - acc: 0.4218\n",
            "Epoch 25/30\n",
            "147/147 [==============================] - 0s 386us/step - loss: 0.3680 - acc: 0.5442\n",
            "Epoch 26/30\n",
            "147/147 [==============================] - 0s 366us/step - loss: 0.3122 - acc: 0.6667\n",
            "Epoch 27/30\n",
            "147/147 [==============================] - 0s 370us/step - loss: 0.2780 - acc: 0.6122\n",
            "Epoch 28/30\n",
            "147/147 [==============================] - 0s 375us/step - loss: 0.3082 - acc: 0.5374\n",
            "Epoch 29/30\n",
            "147/147 [==============================] - 0s 412us/step - loss: 0.2251 - acc: 0.6122\n",
            "Epoch 30/30\n",
            "147/147 [==============================] - 0s 378us/step - loss: 0.1402 - acc: 0.6667\n"
          ],
          "name": "stdout"
        }
      ]
    },
    {
      "metadata": {
        "id": "t1vXYlJezZbH",
        "colab_type": "code",
        "colab": {
          "base_uri": "https://localhost:8080/",
          "height": 347
        },
        "outputId": "5c3cdca4-cbc6-477d-fce1-d95575ef1609"
      },
      "cell_type": "code",
      "source": [
        "plt.plot(history.history['loss'])\n",
        "plt.plot(history.history['acc'],'g')\n",
        "plt.show()"
      ],
      "execution_count": 84,
      "outputs": [
        {
          "output_type": "display_data",
          "data": {
            "image/png": "[encoded data removed]",
            "text/plain": [
              "<Figure size 576x396 with 1 Axes>"
            ]
          },
          "metadata": {
            "tags": []
          }
        }
      ]
    },
    {
      "metadata": {
        "id": "P9Qe7r5g03NA",
        "colab_type": "code",
        "colab": {}
      },
      "cell_type": "code",
      "source": [
        "score = model.evaluate(train_x, y_train, verbose=0)"
      ],
      "execution_count": 0,
      "outputs": []
    },
    {
      "metadata": {
        "id": "n536n0X97XeD",
        "colab_type": "code",
        "colab": {
          "base_uri": "https://localhost:8080/",
          "height": 34
        },
        "outputId": "18199425-8fab-4446-d73b-8280d0c488e1"
      },
      "cell_type": "code",
      "source": [
        "print(score)"
      ],
      "execution_count": 86,
      "outputs": [
        {
          "output_type": "stream",
          "text": [
            "[0.18145311902574943, 0.6666666703159306]\n"
          ],
          "name": "stdout"
        }
      ]
    },
    {
      "metadata": {
        "id": "94re80M5747s",
        "colab_type": "code",
        "colab": {}
      },
      "cell_type": "code",
      "source": [
        ""
      ],
      "execution_count": 0,
      "outputs": []
    }
  ]
}